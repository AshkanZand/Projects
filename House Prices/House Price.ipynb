{
 "cells": [
  {
   "cell_type": "markdown",
   "id": "e69f324d-43d3-48b5-a313-4a1833582fd5",
   "metadata": {},
   "source": [
    "# Import Libraries"
   ]
  },
  {
   "cell_type": "code",
   "execution_count": 1,
   "id": "f3b761de-7a0c-4e9c-b1af-6ff9111ecb1a",
   "metadata": {},
   "outputs": [],
   "source": [
    "# Pandas is a software library written for the Python programming language for data manipulation and analysis.\n",
    "import pandas as pd\n",
    "# NumPy is a library for the Python programming language, adding support for large, multi-dimensional arrays and matrices, along with a large collection of high-level mathematical functions to operate on these arrays\n",
    "import numpy as np\n",
    "# Matplotlib is a plotting library for python and pyplot gives us a MatLab like plotting framework. We will use this in our plotter function to plot data.\n",
    "import matplotlib.pyplot as plt\n",
    "# SQL\n",
    "import sqlite3\n",
    "#Seaborn is a Python data visualization library based on matplotlib. It provides a high-level interface for drawing attractive and informative statistical graphics\n",
    "import seaborn as sns\n",
    "#-----------------------------------------------------------\n",
    "# Preprocessing allows us to standarsize our data\n",
    "from sklearn import preprocessing\n",
    "# Allows us to split our data into training and testing data\n",
    "from sklearn.model_selection import train_test_split\n",
    "# Allows us to test parameters of classification algorithms and find the best one\n",
    "from sklearn.model_selection import GridSearchCV\n",
    "# Logistic Regression classification algorithm\n",
    "from sklearn.linear_model import LogisticRegression\n",
    "# Support Vector Machine classification algorithm\n",
    "from sklearn.svm import SVC\n",
    "# Decision Tree classification algorithm\n",
    "from sklearn.tree import DecisionTreeClassifier\n",
    "# K Nearest Neighbors classification algorithm\n",
    "from sklearn.neighbors import KNeighborsClassifier\n"
   ]
  },
  {
   "cell_type": "markdown",
   "id": "29961c7a-4760-434e-8c8c-de0fd42de105",
   "metadata": {},
   "source": [
    "# Data Collection\n",
    "Objectives: \n",
    "* Describing how data was collected (API, Web Scraping, etc.)\n",
    "* Cleaning the requested data\n",
    "* Converting the data into a Data Frame"
   ]
  },
  {
   "cell_type": "code",
   "execution_count": 2,
   "id": "5298c1ea-24df-4edf-826c-e6edd8c5cdc9",
   "metadata": {},
   "outputs": [],
   "source": [
    "data_train = pd.read_csv('test.csv')\n",
    "data_test = pd.read_csv('train.csv')"
   ]
  },
  {
   "cell_type": "markdown",
   "id": "dd63efef-8fd0-40fa-b053-5e6374f16fbf",
   "metadata": {},
   "source": [
    "# Data Wrangling\n",
    "Objectives:\n",
    "* Filtering the Data\n",
    "* Dealing with missing values\n",
    "* Determine Training Labels\n",
    "* Using One Hot Encoding to prepare the data to a binary classification"
   ]
  },
  {
   "cell_type": "code",
   "execution_count": 3,
   "id": "1ce2663b-3baa-4da8-aeee-e5024da11f59",
   "metadata": {},
   "outputs": [
    {
     "data": {
      "text/html": [
       "<div>\n",
       "<style scoped>\n",
       "    .dataframe tbody tr th:only-of-type {\n",
       "        vertical-align: middle;\n",
       "    }\n",
       "\n",
       "    .dataframe tbody tr th {\n",
       "        vertical-align: top;\n",
       "    }\n",
       "\n",
       "    .dataframe thead th {\n",
       "        text-align: right;\n",
       "    }\n",
       "</style>\n",
       "<table border=\"1\" class=\"dataframe\">\n",
       "  <thead>\n",
       "    <tr style=\"text-align: right;\">\n",
       "      <th></th>\n",
       "      <th>PassengerId</th>\n",
       "      <th>Pclass</th>\n",
       "      <th>Name</th>\n",
       "      <th>Sex</th>\n",
       "      <th>Age</th>\n",
       "      <th>SibSp</th>\n",
       "      <th>Parch</th>\n",
       "      <th>Ticket</th>\n",
       "      <th>Fare</th>\n",
       "      <th>Cabin</th>\n",
       "      <th>Embarked</th>\n",
       "    </tr>\n",
       "  </thead>\n",
       "  <tbody>\n",
       "    <tr>\n",
       "      <th>0</th>\n",
       "      <td>892</td>\n",
       "      <td>3</td>\n",
       "      <td>Kelly, Mr. James</td>\n",
       "      <td>male</td>\n",
       "      <td>34.5</td>\n",
       "      <td>0</td>\n",
       "      <td>0</td>\n",
       "      <td>330911</td>\n",
       "      <td>7.8292</td>\n",
       "      <td>NaN</td>\n",
       "      <td>Q</td>\n",
       "    </tr>\n",
       "    <tr>\n",
       "      <th>1</th>\n",
       "      <td>893</td>\n",
       "      <td>3</td>\n",
       "      <td>Wilkes, Mrs. James (Ellen Needs)</td>\n",
       "      <td>female</td>\n",
       "      <td>47.0</td>\n",
       "      <td>1</td>\n",
       "      <td>0</td>\n",
       "      <td>363272</td>\n",
       "      <td>7.0000</td>\n",
       "      <td>NaN</td>\n",
       "      <td>S</td>\n",
       "    </tr>\n",
       "    <tr>\n",
       "      <th>2</th>\n",
       "      <td>894</td>\n",
       "      <td>2</td>\n",
       "      <td>Myles, Mr. Thomas Francis</td>\n",
       "      <td>male</td>\n",
       "      <td>62.0</td>\n",
       "      <td>0</td>\n",
       "      <td>0</td>\n",
       "      <td>240276</td>\n",
       "      <td>9.6875</td>\n",
       "      <td>NaN</td>\n",
       "      <td>Q</td>\n",
       "    </tr>\n",
       "    <tr>\n",
       "      <th>3</th>\n",
       "      <td>895</td>\n",
       "      <td>3</td>\n",
       "      <td>Wirz, Mr. Albert</td>\n",
       "      <td>male</td>\n",
       "      <td>27.0</td>\n",
       "      <td>0</td>\n",
       "      <td>0</td>\n",
       "      <td>315154</td>\n",
       "      <td>8.6625</td>\n",
       "      <td>NaN</td>\n",
       "      <td>S</td>\n",
       "    </tr>\n",
       "    <tr>\n",
       "      <th>4</th>\n",
       "      <td>896</td>\n",
       "      <td>3</td>\n",
       "      <td>Hirvonen, Mrs. Alexander (Helga E Lindqvist)</td>\n",
       "      <td>female</td>\n",
       "      <td>22.0</td>\n",
       "      <td>1</td>\n",
       "      <td>1</td>\n",
       "      <td>3101298</td>\n",
       "      <td>12.2875</td>\n",
       "      <td>NaN</td>\n",
       "      <td>S</td>\n",
       "    </tr>\n",
       "  </tbody>\n",
       "</table>\n",
       "</div>"
      ],
      "text/plain": [
       "   PassengerId  Pclass                                          Name     Sex  \\\n",
       "0          892       3                              Kelly, Mr. James    male   \n",
       "1          893       3              Wilkes, Mrs. James (Ellen Needs)  female   \n",
       "2          894       2                     Myles, Mr. Thomas Francis    male   \n",
       "3          895       3                              Wirz, Mr. Albert    male   \n",
       "4          896       3  Hirvonen, Mrs. Alexander (Helga E Lindqvist)  female   \n",
       "\n",
       "    Age  SibSp  Parch   Ticket     Fare Cabin Embarked  \n",
       "0  34.5      0      0   330911   7.8292   NaN        Q  \n",
       "1  47.0      1      0   363272   7.0000   NaN        S  \n",
       "2  62.0      0      0   240276   9.6875   NaN        Q  \n",
       "3  27.0      0      0   315154   8.6625   NaN        S  \n",
       "4  22.0      1      1  3101298  12.2875   NaN        S  "
      ]
     },
     "execution_count": 3,
     "metadata": {},
     "output_type": "execute_result"
    }
   ],
   "source": [
    "data_train.head()"
   ]
  },
  {
   "cell_type": "code",
   "execution_count": 4,
   "id": "d66397d0-0dcd-4a76-822d-af1a3efa8536",
   "metadata": {},
   "outputs": [
    {
     "name": "stdout",
     "output_type": "stream",
     "text": [
      "<class 'pandas.core.frame.DataFrame'>\n",
      "RangeIndex: 418 entries, 0 to 417\n",
      "Data columns (total 11 columns):\n",
      " #   Column       Non-Null Count  Dtype  \n",
      "---  ------       --------------  -----  \n",
      " 0   PassengerId  418 non-null    int64  \n",
      " 1   Pclass       418 non-null    int64  \n",
      " 2   Name         418 non-null    object \n",
      " 3   Sex          418 non-null    object \n",
      " 4   Age          332 non-null    float64\n",
      " 5   SibSp        418 non-null    int64  \n",
      " 6   Parch        418 non-null    int64  \n",
      " 7   Ticket       418 non-null    object \n",
      " 8   Fare         417 non-null    float64\n",
      " 9   Cabin        91 non-null     object \n",
      " 10  Embarked     418 non-null    object \n",
      "dtypes: float64(2), int64(4), object(5)\n",
      "memory usage: 36.0+ KB\n"
     ]
    }
   ],
   "source": [
    "data_train.info()"
   ]
  },
  {
   "cell_type": "markdown",
   "id": "e1a5282f-e599-4c85-b95c-6069a158c77b",
   "metadata": {},
   "source": [
    "<b>Infer:<b>\n",
    "* 11 attributes and 418 entries (Passengers)\n",
    "* Attributes \"Age\" , \"Fare\", \"Cabin\" contain Null values.\n",
    "* Attributes \"Name\", \"Sex\", \"Ticket\", \"Cabin\", \"Embarked\" are non-numeric values.\n",
    "* Attribute \"PassengerId\" is the Key attribute. It uniquely identifies each entry (passenger). "
   ]
  },
  {
   "cell_type": "markdown",
   "id": "bf54b871-d9ea-43a9-8e46-5a9cd193c4f3",
   "metadata": {},
   "source": [
    "## Act: Dealing with missing values in the attribute \"Cabin\""
   ]
  },
  {
   "cell_type": "code",
   "execution_count": 5,
   "id": "f07d6432-d273-462b-b7aa-ea135603abcf",
   "metadata": {},
   "outputs": [
    {
     "data": {
      "text/plain": [
       "Cabin\n",
       "NaN                327\n",
       "B57 B59 B63 B66      3\n",
       "C89                  2\n",
       "C116                 2\n",
       "C80                  2\n",
       "                  ... \n",
       "E45                  1\n",
       "E52                  1\n",
       "B58 B60              1\n",
       "C62 C64              1\n",
       "C105                 1\n",
       "Name: count, Length: 77, dtype: int64"
      ]
     },
     "execution_count": 5,
     "metadata": {},
     "output_type": "execute_result"
    }
   ],
   "source": [
    "data_train[\"Cabin\"].value_counts(dropna=False)"
   ]
  },
  {
   "cell_type": "markdown",
   "id": "2d9520e0-8217-4506-980e-0f3efa564b8f",
   "metadata": {},
   "source": [
    "<b>infer<b>: There 327 out of 418 passengers without designated cabin."
   ]
  },
  {
   "cell_type": "code",
   "execution_count": 6,
   "id": "7409f805-efcd-4894-b1b9-9d1e06d066ac",
   "metadata": {},
   "outputs": [
    {
     "name": "stdout",
     "output_type": "stream",
     "text": [
      "There are 90 cabines\n",
      "Cabin names:   A11 A18 A21 A29 A34 A9 B10 B11 B24 B26 B36 B41 B45 B51 B52 B53 B54 B55 B56 B57 B58 B59 B60 B61 B63 B66 B69 B71 B78 C101 C105 C106 C116 C130 C132 C22 C23 C25 C26 C27 C28 C31 C32 C39 C46 C51 C53 C54 C55 C57 C6 C62 C64 C7 C78 C80 C85 C86 C89 C97 D D10 D12 D15 D19 D21 D22 D28 D30 D34 D37 D38 D40 D43 E31 E34 E39 E41 E45 E46 E50 E52 E57 E60 F F2 F33 F4 G6 G63\n"
     ]
    }
   ],
   "source": [
    "# Finding the different Cabin names\n",
    "cabin_names = data_train[\"Cabin\"].str.split(' ', expand=True).stack().tolist()\n",
    "cabin_names = list(set(cabin_names))\n",
    "cabin_names.sort()\n",
    "print (\"There are {} cabines\".format(len(cabin_names)))\n",
    "print(\"Cabin names:  \", *cabin_names)"
   ]
  },
  {
   "cell_type": "code",
   "execution_count": 7,
   "id": "59a9ecba-326e-4b8f-af14-34f68d145797",
   "metadata": {},
   "outputs": [
    {
     "data": {
      "text/plain": [
       "['A', 'C', 'E', 'D', 'F', 'B', 'G']"
      ]
     },
     "execution_count": 7,
     "metadata": {},
     "output_type": "execute_result"
    }
   ],
   "source": [
    "# Categorizing the cabins\n",
    "cabin_class =list(set(map(lambda item: str(item)[0], cabin_names)))\n",
    "cabin_class"
   ]
  },
  {
   "cell_type": "code",
   "execution_count": 18,
   "id": "2f4d1b25-a6b2-4a8d-9757-9957bcf7ce77",
   "metadata": {},
   "outputs": [
    {
     "name": "stdout",
     "output_type": "stream",
     "text": [
      "{'A': ['A11', 'A18', 'A21', 'A29', 'A34', 'A9'], 'B': ['B10', 'B11', 'B24', 'B26', 'B36', 'B41', 'B45', 'B51', 'B52', 'B53', 'B54', 'B55', 'B56', 'B57', 'B58', 'B59', 'B60', 'B61', 'B63', 'B66', 'B69', 'B71', 'B78'], 'C': ['C101', 'C105', 'C106', 'C116', 'C130', 'C132', 'C22', 'C23', 'C25', 'C26', 'C27', 'C28', 'C31', 'C32', 'C39', 'C46', 'C51', 'C53', 'C54', 'C55', 'C57', 'C6', 'C62', 'C64', 'C7', 'C78', 'C80', 'C85', 'C86', 'C89', 'C97'], 'D': ['D', 'D10', 'D12', 'D15', 'D19', 'D21', 'D22', 'D28', 'D30', 'D34', 'D37', 'D38', 'D40', 'D43'], 'E': ['E31', 'E34', 'E39', 'E41', 'E45', 'E46', 'E50', 'E52', 'E57', 'E60'], 'F': ['F', 'F2', 'F33', 'F4'], 'G': ['G6', 'G63']}\n"
     ]
    }
   ],
   "source": [
    "from collections import defaultdict\n",
    "categories = defaultdict(list)\n",
    "for item in cabin_names:\n",
    "    first_letter = str(item)[0].upper()\n",
    "    categories[first_letter].append(item)\n",
    "categories_dict = dict(categories)\n",
    "print(categories_dict)"
   ]
  },
  {
   "cell_type": "code",
   "execution_count": 26,
   "id": "57d407c9-572b-4b04-89e0-f4b27b775477",
   "metadata": {},
   "outputs": [
    {
     "data": {
      "image/png": "[encoded data removed]",
      "text/plain": [
       "<Figure size 1000x600 with 1 Axes>"
      ]
     },
     "metadata": {},
     "output_type": "display_data"
    }
   ],
   "source": [
    "df = pd.DataFrame({\n",
    "    'Letter': [letter for letter in categories_dict],\n",
    "    'Count': [len(items) for items in categories_dict.values()]\n",
    "})\n",
    "plt.figure(figsize=(10, 6))\n",
    "sns.barplot(x='Letter', y='Count', hue ='Letter',data=df, palette='viridis')\n",
    "\n",
    "# Add labels and title\n",
    "plt.xlabel('Cabin Class')\n",
    "plt.ylabel('Count')\n",
    "plt.title('Number of Cabins in each Cabin Class')\n",
    "plt.show()"
   ]
  },
  {
   "cell_type": "markdown",
   "id": "bdccaf60-1e74-43f2-b65a-653f00200149",
   "metadata": {},
   "source": [
    "<b>infer<b>:"
   ]
  },
  {
   "cell_type": "markdown",
   "id": "2d63b0cb-8dd1-4519-9ba9-a3d221a5ff78",
   "metadata": {},
   "source": [
    "# Exploratory Data Analysis (EDA)\n",
    "Objectives:\n",
    "* Exploratory Data Analysis with SQL\n",
    "* Exploratory Data Analysis with Data Visualization\n",
    "* Preparing Data Feature Engineering"
   ]
  },
  {
   "cell_type": "markdown",
   "id": "28b08aec-1da9-4d92-88f3-2ad8736fc3a6",
   "metadata": {},
   "source": [
    "g"
   ]
  },
  {
   "cell_type": "markdown",
   "id": "256bfbd3-2887-4a3e-b3ec-34263bcd66f6",
   "metadata": {},
   "source": [
    "# Interactive Visual Analytics\n",
    "Objectives:\n",
    "* Intreactive visual analytics using Folium, Plotly Dash, etc."
   ]
  },
  {
   "cell_type": "markdown",
   "id": "bbbb5219-36e0-4b23-a8df-4eec2f8fd267",
   "metadata": {},
   "source": []
  },
  {
   "cell_type": "markdown",
   "id": "924739c4-037d-47b3-9379-f142f03e3322",
   "metadata": {},
   "source": [
    "# Predictive Analysis"
   ]
  },
  {
   "cell_type": "markdown",
   "id": "fa7d2a7b-e40f-473b-bbd0-d0c536beca0d",
   "metadata": {},
   "source": [
    "Objectives:\n",
    "* Standardize the data\n",
    "* Split into training data and test data\n",
    "* Finding best Hyperparameter for different models such as SVM, Classification Trees, Logistic Regression and etc.\n",
    "* Find the method performs best using test data"
   ]
  },
  {
   "cell_type": "markdown",
   "id": "54778d00-3023-48c5-88e4-4310a06c8be7",
   "metadata": {},
   "source": [
    "# Results and Discusion"
   ]
  },
  {
   "cell_type": "markdown",
   "id": "6dbcacc9-7e39-44c1-be32-703d97e2d779",
   "metadata": {},
   "source": [
    "# Conclusion"
   ]
  },
  {
   "cell_type": "code",
   "execution_count": null,
   "id": "30a0a806-ee1c-4cfd-a1d0-9e84ae191a1e",
   "metadata": {},
   "outputs": [],
   "source": []
  }
 ],
 "metadata": {
  "kernelspec": {
   "display_name": "Python 3 (ipykernel)",
   "language": "python",
   "name": "python3"
  },
  "language_info": {
   "codemirror_mode": {
    "name": "ipython",
    "version": 3
   },
   "file_extension": ".py",
   "mimetype": "text/x-python",
   "name": "python",
   "nbconvert_exporter": "python",
   "pygments_lexer": "ipython3",
   "version": "3.9.18"
  }
 },
 "nbformat": 4,
 "nbformat_minor": 5
}
