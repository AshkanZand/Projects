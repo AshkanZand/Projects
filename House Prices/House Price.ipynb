{
 "cells": [
  {
   "cell_type": "markdown",
   "id": "e69f324d-43d3-48b5-a313-4a1833582fd5",
   "metadata": {},
   "source": [
    "# Import Libraries"
   ]
  },
  {
   "cell_type": "code",
   "execution_count": 1,
   "id": "f3b761de-7a0c-4e9c-b1af-6ff9111ecb1a",
   "metadata": {},
   "outputs": [],
   "source": [
    "# Pandas is a software library written for the Python programming language for data manipulation and analysis.\n",
    "import pandas as pd\n",
    "# NumPy is a library for the Python programming language, adding support for large, multi-dimensional arrays and matrices, along with a large collection of high-level mathematical functions to operate on these arrays\n",
    "import numpy as np\n",
    "# Matplotlib is a plotting library for python and pyplot gives us a MatLab like plotting framework. We will use this in our plotter function to plot data.\n",
    "import matplotlib.pyplot as plt\n",
    "# SQL\n",
    "import sqlite3\n",
    "#Seaborn is a Python data visualization library based on matplotlib. It provides a high-level interface for drawing attractive and informative statistical graphics\n",
    "import seaborn as sns\n",
    "#-----------------------------------------------------------\n",
    "# Preprocessing allows us to standarsize our data\n",
    "from sklearn import preprocessing\n",
    "# Allows us to split our data into training and testing data\n",
    "from sklearn.model_selection import train_test_split\n",
    "# Allows us to test parameters of classification algorithms and find the best one\n",
    "from sklearn.model_selection import GridSearchCV\n",
    "# Logistic Regression classification algorithm\n",
    "from sklearn.linear_model import LogisticRegression\n",
    "# Support Vector Machine classification algorithm\n",
    "from sklearn.svm import SVC\n",
    "# Decision Tree classification algorithm\n",
    "from sklearn.tree import DecisionTreeClassifier\n",
    "# K Nearest Neighbors classification algorithm\n",
    "from sklearn.neighbors import KNeighborsClassifier\n"
   ]
  },
  {
   "cell_type": "markdown",
   "id": "29961c7a-4760-434e-8c8c-de0fd42de105",
   "metadata": {},
   "source": [
    "# Data Collection\n",
    "Objectives: \n",
    "* Describing how data was collected (API, Web Scraping, etc.)\n",
    "* Cleaning the requested data\n",
    "* Converting the data into a Data Frame"
   ]
  },
  {
   "cell_type": "code",
   "execution_count": 2,
   "id": "5298c1ea-24df-4edf-826c-e6edd8c5cdc9",
   "metadata": {},
   "outputs": [],
   "source": [
    "data_train = pd.read_csv('test.csv')\n",
    "data_test = pd.read_csv('train.csv')"
   ]
  },
  {
   "cell_type": "markdown",
   "id": "dd63efef-8fd0-40fa-b053-5e6374f16fbf",
   "metadata": {},
   "source": [
    "<div style=\"background-color: lightgray; padding: 10px; border-radius: 5px;\">\n",
    "    \n",
    "# Data Wrangling\n",
    "Objectives:\n",
    "* Filtering the Data\n",
    "* Dealing with missing values\n",
    "* Determine Training Labels\n",
    "* Using One Hot Encoding to prepare the data to a binary classification\n",
    "    \n",
    "</div>\n"
   ]
  },
  {
   "cell_type": "code",
   "execution_count": 3,
   "id": "1ce2663b-3baa-4da8-aeee-e5024da11f59",
   "metadata": {},
   "outputs": [
    {
     "data": {
      "text/html": [
       "<div>\n",
       "<style scoped>\n",
       "    .dataframe tbody tr th:only-of-type {\n",
       "        vertical-align: middle;\n",
       "    }\n",
       "\n",
       "    .dataframe tbody tr th {\n",
       "        vertical-align: top;\n",
       "    }\n",
       "\n",
       "    .dataframe thead th {\n",
       "        text-align: right;\n",
       "    }\n",
       "</style>\n",
       "<table border=\"1\" class=\"dataframe\">\n",
       "  <thead>\n",
       "    <tr style=\"text-align: right;\">\n",
       "      <th></th>\n",
       "      <th>Id</th>\n",
       "      <th>MSSubClass</th>\n",
       "      <th>MSZoning</th>\n",
       "      <th>LotFrontage</th>\n",
       "      <th>LotArea</th>\n",
       "      <th>Street</th>\n",
       "      <th>Alley</th>\n",
       "      <th>LotShape</th>\n",
       "      <th>LandContour</th>\n",
       "      <th>Utilities</th>\n",
       "      <th>...</th>\n",
       "      <th>ScreenPorch</th>\n",
       "      <th>PoolArea</th>\n",
       "      <th>PoolQC</th>\n",
       "      <th>Fence</th>\n",
       "      <th>MiscFeature</th>\n",
       "      <th>MiscVal</th>\n",
       "      <th>MoSold</th>\n",
       "      <th>YrSold</th>\n",
       "      <th>SaleType</th>\n",
       "      <th>SaleCondition</th>\n",
       "    </tr>\n",
       "  </thead>\n",
       "  <tbody>\n",
       "    <tr>\n",
       "      <th>0</th>\n",
       "      <td>1461</td>\n",
       "      <td>20</td>\n",
       "      <td>RH</td>\n",
       "      <td>80.0</td>\n",
       "      <td>11622</td>\n",
       "      <td>Pave</td>\n",
       "      <td>NaN</td>\n",
       "      <td>Reg</td>\n",
       "      <td>Lvl</td>\n",
       "      <td>AllPub</td>\n",
       "      <td>...</td>\n",
       "      <td>120</td>\n",
       "      <td>0</td>\n",
       "      <td>NaN</td>\n",
       "      <td>MnPrv</td>\n",
       "      <td>NaN</td>\n",
       "      <td>0</td>\n",
       "      <td>6</td>\n",
       "      <td>2010</td>\n",
       "      <td>WD</td>\n",
       "      <td>Normal</td>\n",
       "    </tr>\n",
       "    <tr>\n",
       "      <th>1</th>\n",
       "      <td>1462</td>\n",
       "      <td>20</td>\n",
       "      <td>RL</td>\n",
       "      <td>81.0</td>\n",
       "      <td>14267</td>\n",
       "      <td>Pave</td>\n",
       "      <td>NaN</td>\n",
       "      <td>IR1</td>\n",
       "      <td>Lvl</td>\n",
       "      <td>AllPub</td>\n",
       "      <td>...</td>\n",
       "      <td>0</td>\n",
       "      <td>0</td>\n",
       "      <td>NaN</td>\n",
       "      <td>NaN</td>\n",
       "      <td>Gar2</td>\n",
       "      <td>12500</td>\n",
       "      <td>6</td>\n",
       "      <td>2010</td>\n",
       "      <td>WD</td>\n",
       "      <td>Normal</td>\n",
       "    </tr>\n",
       "    <tr>\n",
       "      <th>2</th>\n",
       "      <td>1463</td>\n",
       "      <td>60</td>\n",
       "      <td>RL</td>\n",
       "      <td>74.0</td>\n",
       "      <td>13830</td>\n",
       "      <td>Pave</td>\n",
       "      <td>NaN</td>\n",
       "      <td>IR1</td>\n",
       "      <td>Lvl</td>\n",
       "      <td>AllPub</td>\n",
       "      <td>...</td>\n",
       "      <td>0</td>\n",
       "      <td>0</td>\n",
       "      <td>NaN</td>\n",
       "      <td>MnPrv</td>\n",
       "      <td>NaN</td>\n",
       "      <td>0</td>\n",
       "      <td>3</td>\n",
       "      <td>2010</td>\n",
       "      <td>WD</td>\n",
       "      <td>Normal</td>\n",
       "    </tr>\n",
       "    <tr>\n",
       "      <th>3</th>\n",
       "      <td>1464</td>\n",
       "      <td>60</td>\n",
       "      <td>RL</td>\n",
       "      <td>78.0</td>\n",
       "      <td>9978</td>\n",
       "      <td>Pave</td>\n",
       "      <td>NaN</td>\n",
       "      <td>IR1</td>\n",
       "      <td>Lvl</td>\n",
       "      <td>AllPub</td>\n",
       "      <td>...</td>\n",
       "      <td>0</td>\n",
       "      <td>0</td>\n",
       "      <td>NaN</td>\n",
       "      <td>NaN</td>\n",
       "      <td>NaN</td>\n",
       "      <td>0</td>\n",
       "      <td>6</td>\n",
       "      <td>2010</td>\n",
       "      <td>WD</td>\n",
       "      <td>Normal</td>\n",
       "    </tr>\n",
       "    <tr>\n",
       "      <th>4</th>\n",
       "      <td>1465</td>\n",
       "      <td>120</td>\n",
       "      <td>RL</td>\n",
       "      <td>43.0</td>\n",
       "      <td>5005</td>\n",
       "      <td>Pave</td>\n",
       "      <td>NaN</td>\n",
       "      <td>IR1</td>\n",
       "      <td>HLS</td>\n",
       "      <td>AllPub</td>\n",
       "      <td>...</td>\n",
       "      <td>144</td>\n",
       "      <td>0</td>\n",
       "      <td>NaN</td>\n",
       "      <td>NaN</td>\n",
       "      <td>NaN</td>\n",
       "      <td>0</td>\n",
       "      <td>1</td>\n",
       "      <td>2010</td>\n",
       "      <td>WD</td>\n",
       "      <td>Normal</td>\n",
       "    </tr>\n",
       "  </tbody>\n",
       "</table>\n",
       "<p>5 rows × 80 columns</p>\n",
       "</div>"
      ],
      "text/plain": [
       "     Id  MSSubClass MSZoning  LotFrontage  LotArea Street Alley LotShape  \\\n",
       "0  1461          20       RH         80.0    11622   Pave   NaN      Reg   \n",
       "1  1462          20       RL         81.0    14267   Pave   NaN      IR1   \n",
       "2  1463          60       RL         74.0    13830   Pave   NaN      IR1   \n",
       "3  1464          60       RL         78.0     9978   Pave   NaN      IR1   \n",
       "4  1465         120       RL         43.0     5005   Pave   NaN      IR1   \n",
       "\n",
       "  LandContour Utilities  ... ScreenPorch PoolArea PoolQC  Fence MiscFeature  \\\n",
       "0         Lvl    AllPub  ...         120        0    NaN  MnPrv         NaN   \n",
       "1         Lvl    AllPub  ...           0        0    NaN    NaN        Gar2   \n",
       "2         Lvl    AllPub  ...           0        0    NaN  MnPrv         NaN   \n",
       "3         Lvl    AllPub  ...           0        0    NaN    NaN         NaN   \n",
       "4         HLS    AllPub  ...         144        0    NaN    NaN         NaN   \n",
       "\n",
       "  MiscVal MoSold  YrSold  SaleType  SaleCondition  \n",
       "0       0      6    2010        WD         Normal  \n",
       "1   12500      6    2010        WD         Normal  \n",
       "2       0      3    2010        WD         Normal  \n",
       "3       0      6    2010        WD         Normal  \n",
       "4       0      1    2010        WD         Normal  \n",
       "\n",
       "[5 rows x 80 columns]"
      ]
     },
     "execution_count": 3,
     "metadata": {},
     "output_type": "execute_result"
    }
   ],
   "source": [
    "data_train.head()"
   ]
  },
  {
   "cell_type": "code",
   "execution_count": 4,
   "id": "d66397d0-0dcd-4a76-822d-af1a3efa8536",
   "metadata": {},
   "outputs": [
    {
     "name": "stdout",
     "output_type": "stream",
     "text": [
      "<class 'pandas.core.frame.DataFrame'>\n",
      "RangeIndex: 1459 entries, 0 to 1458\n",
      "Data columns (total 80 columns):\n",
      " #   Column         Non-Null Count  Dtype  \n",
      "---  ------         --------------  -----  \n",
      " 0   Id             1459 non-null   int64  \n",
      " 1   MSSubClass     1459 non-null   int64  \n",
      " 2   MSZoning       1455 non-null   object \n",
      " 3   LotFrontage    1232 non-null   float64\n",
      " 4   LotArea        1459 non-null   int64  \n",
      " 5   Street         1459 non-null   object \n",
      " 6   Alley          107 non-null    object \n",
      " 7   LotShape       1459 non-null   object \n",
      " 8   LandContour    1459 non-null   object \n",
      " 9   Utilities      1457 non-null   object \n",
      " 10  LotConfig      1459 non-null   object \n",
      " 11  LandSlope      1459 non-null   object \n",
      " 12  Neighborhood   1459 non-null   object \n",
      " 13  Condition1     1459 non-null   object \n",
      " 14  Condition2     1459 non-null   object \n",
      " 15  BldgType       1459 non-null   object \n",
      " 16  HouseStyle     1459 non-null   object \n",
      " 17  OverallQual    1459 non-null   int64  \n",
      " 18  OverallCond    1459 non-null   int64  \n",
      " 19  YearBuilt      1459 non-null   int64  \n",
      " 20  YearRemodAdd   1459 non-null   int64  \n",
      " 21  RoofStyle      1459 non-null   object \n",
      " 22  RoofMatl       1459 non-null   object \n",
      " 23  Exterior1st    1458 non-null   object \n",
      " 24  Exterior2nd    1458 non-null   object \n",
      " 25  MasVnrType     565 non-null    object \n",
      " 26  MasVnrArea     1444 non-null   float64\n",
      " 27  ExterQual      1459 non-null   object \n",
      " 28  ExterCond      1459 non-null   object \n",
      " 29  Foundation     1459 non-null   object \n",
      " 30  BsmtQual       1415 non-null   object \n",
      " 31  BsmtCond       1414 non-null   object \n",
      " 32  BsmtExposure   1415 non-null   object \n",
      " 33  BsmtFinType1   1417 non-null   object \n",
      " 34  BsmtFinSF1     1458 non-null   float64\n",
      " 35  BsmtFinType2   1417 non-null   object \n",
      " 36  BsmtFinSF2     1458 non-null   float64\n",
      " 37  BsmtUnfSF      1458 non-null   float64\n",
      " 38  TotalBsmtSF    1458 non-null   float64\n",
      " 39  Heating        1459 non-null   object \n",
      " 40  HeatingQC      1459 non-null   object \n",
      " 41  CentralAir     1459 non-null   object \n",
      " 42  Electrical     1459 non-null   object \n",
      " 43  1stFlrSF       1459 non-null   int64  \n",
      " 44  2ndFlrSF       1459 non-null   int64  \n",
      " 45  LowQualFinSF   1459 non-null   int64  \n",
      " 46  GrLivArea      1459 non-null   int64  \n",
      " 47  BsmtFullBath   1457 non-null   float64\n",
      " 48  BsmtHalfBath   1457 non-null   float64\n",
      " 49  FullBath       1459 non-null   int64  \n",
      " 50  HalfBath       1459 non-null   int64  \n",
      " 51  BedroomAbvGr   1459 non-null   int64  \n",
      " 52  KitchenAbvGr   1459 non-null   int64  \n",
      " 53  KitchenQual    1458 non-null   object \n",
      " 54  TotRmsAbvGrd   1459 non-null   int64  \n",
      " 55  Functional     1457 non-null   object \n",
      " 56  Fireplaces     1459 non-null   int64  \n",
      " 57  FireplaceQu    729 non-null    object \n",
      " 58  GarageType     1383 non-null   object \n",
      " 59  GarageYrBlt    1381 non-null   float64\n",
      " 60  GarageFinish   1381 non-null   object \n",
      " 61  GarageCars     1458 non-null   float64\n",
      " 62  GarageArea     1458 non-null   float64\n",
      " 63  GarageQual     1381 non-null   object \n",
      " 64  GarageCond     1381 non-null   object \n",
      " 65  PavedDrive     1459 non-null   object \n",
      " 66  WoodDeckSF     1459 non-null   int64  \n",
      " 67  OpenPorchSF    1459 non-null   int64  \n",
      " 68  EnclosedPorch  1459 non-null   int64  \n",
      " 69  3SsnPorch      1459 non-null   int64  \n",
      " 70  ScreenPorch    1459 non-null   int64  \n",
      " 71  PoolArea       1459 non-null   int64  \n",
      " 72  PoolQC         3 non-null      object \n",
      " 73  Fence          290 non-null    object \n",
      " 74  MiscFeature    51 non-null     object \n",
      " 75  MiscVal        1459 non-null   int64  \n",
      " 76  MoSold         1459 non-null   int64  \n",
      " 77  YrSold         1459 non-null   int64  \n",
      " 78  SaleType       1458 non-null   object \n",
      " 79  SaleCondition  1459 non-null   object \n",
      "dtypes: float64(11), int64(26), object(43)\n",
      "memory usage: 912.0+ KB\n"
     ]
    }
   ],
   "source": [
    "data_train.info()"
   ]
  },
  {
   "cell_type": "code",
   "execution_count": 5,
   "id": "804da929-a4da-4e41-a796-642f340139e0",
   "metadata": {},
   "outputs": [
    {
     "name": "stdout",
     "output_type": "stream",
     "text": [
      "Number of Attributes containing NaN values: \n",
      " 33\n",
      "Columns with NaN values: \n",
      " ['MSZoning' 'LotFrontage' 'Alley' 'Utilities' 'Exterior1st' 'Exterior2nd'\n",
      " 'MasVnrType' 'MasVnrArea' 'BsmtQual' 'BsmtCond' 'BsmtExposure'\n",
      " 'BsmtFinType1' 'BsmtFinSF1' 'BsmtFinType2' 'BsmtFinSF2' 'BsmtUnfSF'\n",
      " 'TotalBsmtSF' 'BsmtFullBath' 'BsmtHalfBath' 'KitchenQual' 'Functional'\n",
      " 'FireplaceQu' 'GarageType' 'GarageYrBlt' 'GarageFinish' 'GarageCars'\n",
      " 'GarageArea' 'GarageQual' 'GarageCond' 'PoolQC' 'Fence' 'MiscFeature'\n",
      " 'SaleType']\n"
     ]
    }
   ],
   "source": [
    "nan_columns = data_train.columns[data_train.isnull().any()]\n",
    "print(\"Number of Attributes containing NaN values: \\n\",len(nan_columns))\n",
    "print(\"Columns with NaN values: \\n\", nan_columns.values)"
   ]
  },
  {
   "cell_type": "code",
   "execution_count": 6,
   "id": "6142f72d-6515-4231-93ca-74a5ec1b8e13",
   "metadata": {},
   "outputs": [
    {
     "name": "stdout",
     "output_type": "stream",
     "text": [
      "Number of Attributes with data type 'object': \n",
      " 43\n",
      "Columns with data type 'object': \n",
      " ['MSZoning' 'Street' 'Alley' 'LotShape' 'LandContour' 'Utilities'\n",
      " 'LotConfig' 'LandSlope' 'Neighborhood' 'Condition1' 'Condition2'\n",
      " 'BldgType' 'HouseStyle' 'RoofStyle' 'RoofMatl' 'Exterior1st'\n",
      " 'Exterior2nd' 'MasVnrType' 'ExterQual' 'ExterCond' 'Foundation'\n",
      " 'BsmtQual' 'BsmtCond' 'BsmtExposure' 'BsmtFinType1' 'BsmtFinType2'\n",
      " 'Heating' 'HeatingQC' 'CentralAir' 'Electrical' 'KitchenQual'\n",
      " 'Functional' 'FireplaceQu' 'GarageType' 'GarageFinish' 'GarageQual'\n",
      " 'GarageCond' 'PavedDrive' 'PoolQC' 'Fence' 'MiscFeature' 'SaleType'\n",
      " 'SaleCondition']\n"
     ]
    }
   ],
   "source": [
    "object_columns = data_train.select_dtypes(include=['object']).columns\n",
    "print(\"Number of Attributes with data type 'object': \\n\",len(object_columns))\n",
    "print(\"Columns with data type 'object': \\n\", object_columns.values)"
   ]
  },
  {
   "cell_type": "markdown",
   "id": "e1a5282f-e599-4c85-b95c-6069a158c77b",
   "metadata": {},
   "source": [
    "<div style=\"background-color: lightblue; padding: 12px; border-radius: 5px;\">\n",
    "\n",
    "<b>Infer<b>\n",
    "* 80 attributes (homes features ) and 1459 entries (residential homes)\n",
    "* 33 out of 80 attributes are contating NaN values (nan_columns).\n",
    "* 43 out of 80 attributes have non-numeric values (object_columns).\n",
    "* Attribute \"Id\" is the Key attribute. It uniquely identifies each entry (House).\n",
    "</div>"
   ]
  },
  {
   "cell_type": "markdown",
   "id": "bf54b871-d9ea-43a9-8e46-5a9cd193c4f3",
   "metadata": {},
   "source": [
    "<div style=\"background-color: lightgreen; padding: 12px; border-radius: 5px;\">\n",
    "\n",
    "<b>Next Step<b>\n",
    "\n",
    "Dealing with missing values of the attributes having the numeric values.\n",
    "\n",
    "</div>"
   ]
  },
  {
   "cell_type": "code",
   "execution_count": 7,
   "id": "df2b6cb4-62bf-4bf8-869f-10691b210f11",
   "metadata": {},
   "outputs": [
    {
     "name": "stdout",
     "output_type": "stream",
     "text": [
      "['BsmtFullBath', 'BsmtHalfBath', 'BsmtUnfSF', 'BsmtFinSF1', 'GarageCars', 'GarageArea', 'GarageYrBlt', 'MasVnrArea', 'TotalBsmtSF', 'LotFrontage', 'BsmtFinSF2'] \n",
      "\n"
     ]
    }
   ],
   "source": [
    "numeric_nan_columns = list(set(nan_columns) - set(object_columns))\n",
    "print(numeric_nan_columns,'\\n')"
   ]
  },
  {
   "cell_type": "code",
   "execution_count": 8,
   "id": "95f25779-79ff-4ffb-b197-91d71382c449",
   "metadata": {},
   "outputs": [
    {
     "data": {
      "text/html": [
       "<div>\n",
       "<style scoped>\n",
       "    .dataframe tbody tr th:only-of-type {\n",
       "        vertical-align: middle;\n",
       "    }\n",
       "\n",
       "    .dataframe tbody tr th {\n",
       "        vertical-align: top;\n",
       "    }\n",
       "\n",
       "    .dataframe thead th {\n",
       "        text-align: right;\n",
       "    }\n",
       "</style>\n",
       "<table border=\"1\" class=\"dataframe\">\n",
       "  <thead>\n",
       "    <tr style=\"text-align: right;\">\n",
       "      <th></th>\n",
       "      <th>BsmtFullBath</th>\n",
       "      <th>BsmtHalfBath</th>\n",
       "      <th>BsmtUnfSF</th>\n",
       "      <th>BsmtFinSF1</th>\n",
       "      <th>GarageCars</th>\n",
       "      <th>GarageArea</th>\n",
       "      <th>GarageYrBlt</th>\n",
       "      <th>MasVnrArea</th>\n",
       "      <th>TotalBsmtSF</th>\n",
       "      <th>LotFrontage</th>\n",
       "      <th>BsmtFinSF2</th>\n",
       "    </tr>\n",
       "  </thead>\n",
       "  <tbody>\n",
       "    <tr>\n",
       "      <th>0</th>\n",
       "      <td>0.0</td>\n",
       "      <td>0.0</td>\n",
       "      <td>270.0</td>\n",
       "      <td>468.0</td>\n",
       "      <td>1.0</td>\n",
       "      <td>730.0</td>\n",
       "      <td>1961.0</td>\n",
       "      <td>0.0</td>\n",
       "      <td>882.0</td>\n",
       "      <td>80.0</td>\n",
       "      <td>144.0</td>\n",
       "    </tr>\n",
       "    <tr>\n",
       "      <th>1</th>\n",
       "      <td>0.0</td>\n",
       "      <td>0.0</td>\n",
       "      <td>406.0</td>\n",
       "      <td>923.0</td>\n",
       "      <td>1.0</td>\n",
       "      <td>312.0</td>\n",
       "      <td>1958.0</td>\n",
       "      <td>108.0</td>\n",
       "      <td>1329.0</td>\n",
       "      <td>81.0</td>\n",
       "      <td>0.0</td>\n",
       "    </tr>\n",
       "    <tr>\n",
       "      <th>2</th>\n",
       "      <td>0.0</td>\n",
       "      <td>0.0</td>\n",
       "      <td>137.0</td>\n",
       "      <td>791.0</td>\n",
       "      <td>2.0</td>\n",
       "      <td>482.0</td>\n",
       "      <td>1997.0</td>\n",
       "      <td>0.0</td>\n",
       "      <td>928.0</td>\n",
       "      <td>74.0</td>\n",
       "      <td>0.0</td>\n",
       "    </tr>\n",
       "    <tr>\n",
       "      <th>3</th>\n",
       "      <td>0.0</td>\n",
       "      <td>0.0</td>\n",
       "      <td>324.0</td>\n",
       "      <td>602.0</td>\n",
       "      <td>2.0</td>\n",
       "      <td>470.0</td>\n",
       "      <td>1998.0</td>\n",
       "      <td>20.0</td>\n",
       "      <td>926.0</td>\n",
       "      <td>78.0</td>\n",
       "      <td>0.0</td>\n",
       "    </tr>\n",
       "    <tr>\n",
       "      <th>4</th>\n",
       "      <td>0.0</td>\n",
       "      <td>0.0</td>\n",
       "      <td>1017.0</td>\n",
       "      <td>263.0</td>\n",
       "      <td>2.0</td>\n",
       "      <td>506.0</td>\n",
       "      <td>1992.0</td>\n",
       "      <td>0.0</td>\n",
       "      <td>1280.0</td>\n",
       "      <td>43.0</td>\n",
       "      <td>0.0</td>\n",
       "    </tr>\n",
       "    <tr>\n",
       "      <th>...</th>\n",
       "      <td>...</td>\n",
       "      <td>...</td>\n",
       "      <td>...</td>\n",
       "      <td>...</td>\n",
       "      <td>...</td>\n",
       "      <td>...</td>\n",
       "      <td>...</td>\n",
       "      <td>...</td>\n",
       "      <td>...</td>\n",
       "      <td>...</td>\n",
       "      <td>...</td>\n",
       "    </tr>\n",
       "    <tr>\n",
       "      <th>1454</th>\n",
       "      <td>0.0</td>\n",
       "      <td>0.0</td>\n",
       "      <td>546.0</td>\n",
       "      <td>0.0</td>\n",
       "      <td>0.0</td>\n",
       "      <td>0.0</td>\n",
       "      <td>NaN</td>\n",
       "      <td>0.0</td>\n",
       "      <td>546.0</td>\n",
       "      <td>21.0</td>\n",
       "      <td>0.0</td>\n",
       "    </tr>\n",
       "    <tr>\n",
       "      <th>1455</th>\n",
       "      <td>0.0</td>\n",
       "      <td>0.0</td>\n",
       "      <td>294.0</td>\n",
       "      <td>252.0</td>\n",
       "      <td>1.0</td>\n",
       "      <td>286.0</td>\n",
       "      <td>1970.0</td>\n",
       "      <td>0.0</td>\n",
       "      <td>546.0</td>\n",
       "      <td>21.0</td>\n",
       "      <td>0.0</td>\n",
       "    </tr>\n",
       "    <tr>\n",
       "      <th>1456</th>\n",
       "      <td>1.0</td>\n",
       "      <td>0.0</td>\n",
       "      <td>0.0</td>\n",
       "      <td>1224.0</td>\n",
       "      <td>2.0</td>\n",
       "      <td>576.0</td>\n",
       "      <td>1960.0</td>\n",
       "      <td>0.0</td>\n",
       "      <td>1224.0</td>\n",
       "      <td>160.0</td>\n",
       "      <td>0.0</td>\n",
       "    </tr>\n",
       "    <tr>\n",
       "      <th>1457</th>\n",
       "      <td>0.0</td>\n",
       "      <td>1.0</td>\n",
       "      <td>575.0</td>\n",
       "      <td>337.0</td>\n",
       "      <td>0.0</td>\n",
       "      <td>0.0</td>\n",
       "      <td>NaN</td>\n",
       "      <td>0.0</td>\n",
       "      <td>912.0</td>\n",
       "      <td>62.0</td>\n",
       "      <td>0.0</td>\n",
       "    </tr>\n",
       "    <tr>\n",
       "      <th>1458</th>\n",
       "      <td>0.0</td>\n",
       "      <td>0.0</td>\n",
       "      <td>238.0</td>\n",
       "      <td>758.0</td>\n",
       "      <td>3.0</td>\n",
       "      <td>650.0</td>\n",
       "      <td>1993.0</td>\n",
       "      <td>94.0</td>\n",
       "      <td>996.0</td>\n",
       "      <td>74.0</td>\n",
       "      <td>0.0</td>\n",
       "    </tr>\n",
       "  </tbody>\n",
       "</table>\n",
       "<p>1459 rows × 11 columns</p>\n",
       "</div>"
      ],
      "text/plain": [
       "      BsmtFullBath  BsmtHalfBath  BsmtUnfSF  BsmtFinSF1  GarageCars  \\\n",
       "0              0.0           0.0      270.0       468.0         1.0   \n",
       "1              0.0           0.0      406.0       923.0         1.0   \n",
       "2              0.0           0.0      137.0       791.0         2.0   \n",
       "3              0.0           0.0      324.0       602.0         2.0   \n",
       "4              0.0           0.0     1017.0       263.0         2.0   \n",
       "...            ...           ...        ...         ...         ...   \n",
       "1454           0.0           0.0      546.0         0.0         0.0   \n",
       "1455           0.0           0.0      294.0       252.0         1.0   \n",
       "1456           1.0           0.0        0.0      1224.0         2.0   \n",
       "1457           0.0           1.0      575.0       337.0         0.0   \n",
       "1458           0.0           0.0      238.0       758.0         3.0   \n",
       "\n",
       "      GarageArea  GarageYrBlt  MasVnrArea  TotalBsmtSF  LotFrontage  \\\n",
       "0          730.0       1961.0         0.0        882.0         80.0   \n",
       "1          312.0       1958.0       108.0       1329.0         81.0   \n",
       "2          482.0       1997.0         0.0        928.0         74.0   \n",
       "3          470.0       1998.0        20.0        926.0         78.0   \n",
       "4          506.0       1992.0         0.0       1280.0         43.0   \n",
       "...          ...          ...         ...          ...          ...   \n",
       "1454         0.0          NaN         0.0        546.0         21.0   \n",
       "1455       286.0       1970.0         0.0        546.0         21.0   \n",
       "1456       576.0       1960.0         0.0       1224.0        160.0   \n",
       "1457         0.0          NaN         0.0        912.0         62.0   \n",
       "1458       650.0       1993.0        94.0        996.0         74.0   \n",
       "\n",
       "      BsmtFinSF2  \n",
       "0          144.0  \n",
       "1            0.0  \n",
       "2            0.0  \n",
       "3            0.0  \n",
       "4            0.0  \n",
       "...          ...  \n",
       "1454         0.0  \n",
       "1455         0.0  \n",
       "1456         0.0  \n",
       "1457         0.0  \n",
       "1458         0.0  \n",
       "\n",
       "[1459 rows x 11 columns]"
      ]
     },
     "execution_count": 8,
     "metadata": {},
     "output_type": "execute_result"
    }
   ],
   "source": [
    "data_train[numeric_nan_columns]"
   ]
  },
  {
   "cell_type": "markdown",
   "id": "5e36bab9-d5dd-44ac-b36c-b2b666bf6c57",
   "metadata": {
    "jp-MarkdownHeadingCollapsed": true
   },
   "source": [
    "## Dealing with 'BsmtHalfBath' attribute"
   ]
  },
  {
   "cell_type": "code",
   "execution_count": 9,
   "id": "6408878e-0cb1-4740-9b20-95cf03fa6505",
   "metadata": {},
   "outputs": [],
   "source": [
    "# Finding the description of the attributes\n",
    "def get_attribute_description(file_path, attribute_name):\n",
    "    \"\"\"\n",
    "    This function reads a text file containing attributes and their descriptions, \n",
    "    stores them in a dictionary, and returns the description for a specific attribute.\n",
    "\n",
    "    :param file_path: Path to the text file\n",
    "    :param attribute_name: The name of the attribute to look up\n",
    "    :return: The description of the specified attribute, or a message if not found\n",
    "    \"\"\"\n",
    "    # Initialize an empty dictionary to hold the attributes and descriptions\n",
    "    attributes_dict = {}\n",
    "\n",
    "    # Open the text file\n",
    "    with open(file_path, 'r') as file:\n",
    "        current_attribute = None\n",
    "        current_description = []\n",
    "        \n",
    "        for line in file:\n",
    "            line = line.rstrip()  # Remove trailing whitespace\n",
    "            if not line:\n",
    "                continue  # Skip empty lines\n",
    "            \n",
    "            # Check if the line is a potential attribute name followed by a colon\n",
    "            if ':' in line:\n",
    "                if current_attribute:\n",
    "                    # If there was a previous attribute, save it before moving to the next one\n",
    "                    attributes_dict[current_attribute] = '\\n'.join(current_description).strip()\n",
    "                # Extract attribute name and start a new description\n",
    "                current_attribute, description_part = line.split(':', 1)\n",
    "                current_attribute = current_attribute.strip()\n",
    "                current_description = [description_part.strip()]\n",
    "            else:\n",
    "                # If the line doesn't contain a colon, it's part of the current description\n",
    "                current_description.append(line)\n",
    "        \n",
    "        # Don't forget to add the last attribute after exiting the loop\n",
    "        if current_attribute:\n",
    "            attributes_dict[current_attribute] = '\\n'.join(current_description).strip()\n",
    "\n",
    "    # Look up the requested attribute\n",
    "    if attribute_name in attributes_dict:\n",
    "        return f\"{attribute_name}:\\n{attributes_dict[attribute_name]}\"\n",
    "    else:\n",
    "        return f\"Attribute '{attribute_name}' not found.\""
   ]
  },
  {
   "cell_type": "code",
   "execution_count": 10,
   "id": "27048b40-5d54-4cc7-8a3c-90b1b7b65df1",
   "metadata": {},
   "outputs": [
    {
     "name": "stdout",
     "output_type": "stream",
     "text": [
      "BsmtHalfBath:\n",
      "Basement half bathrooms\n"
     ]
    }
   ],
   "source": [
    "# 'BsmtHalfBath' attribute description\n",
    "print(get_attribute_description('data_description.txt', 'BsmtHalfBath'))"
   ]
  },
  {
   "cell_type": "code",
   "execution_count": 11,
   "id": "90e82990-b1a9-4d43-898a-63ad2a5fc8de",
   "metadata": {},
   "outputs": [
    {
     "data": {
      "text/plain": [
       "BsmtHalfBath\n",
       "0.0    1364\n",
       "1.0      91\n",
       "NaN       2\n",
       "2.0       2\n",
       "Name: count, dtype: int64"
      ]
     },
     "execution_count": 11,
     "metadata": {},
     "output_type": "execute_result"
    }
   ],
   "source": [
    "data_train['BsmtHalfBath'].value_counts(dropna=False)"
   ]
  },
  {
   "cell_type": "markdown",
   "id": "2ed2cc07-0054-45c3-b9fa-66598e185328",
   "metadata": {},
   "source": [
    "<div style=\"background-color: lightblue; padding: 12px; border-radius: 5px;\">\n",
    "    \n",
    "<b>Infer\n",
    "    \n",
    "Given that '0.0' is the most frequent value, it indicates a non-event and the missing data is a small percentage, simple imputation with the Most Frequent Value (Mode) is logical.\n",
    "\n",
    "</div>"
   ]
  },
  {
   "cell_type": "code",
   "execution_count": 12,
   "id": "28f19c64-0a92-4da8-87d9-899442ae37e9",
   "metadata": {},
   "outputs": [],
   "source": [
    "# Replacing the missing values with Mode\n",
    "mode_value = data_train['BsmtHalfBath'].mode()[0]\n",
    "data_train['BsmtHalfBath'].fillna(mode_value, inplace=True)"
   ]
  },
  {
   "cell_type": "code",
   "execution_count": 13,
   "id": "1af8f09e-211d-4a98-9cfc-77d83121bad8",
   "metadata": {},
   "outputs": [
    {
     "name": "stdout",
     "output_type": "stream",
     "text": [
      "<class 'pandas.core.series.Series'>\n",
      "RangeIndex: 1459 entries, 0 to 1458\n",
      "Series name: BsmtHalfBath\n",
      "Non-Null Count  Dtype  \n",
      "--------------  -----  \n",
      "1459 non-null   float64\n",
      "dtypes: float64(1)\n",
      "memory usage: 11.5 KB\n"
     ]
    }
   ],
   "source": [
    "data_train['BsmtHalfBath'].info()"
   ]
  },
  {
   "cell_type": "code",
   "execution_count": 14,
   "id": "b382a7ef-ed39-4d1b-a207-4a31035bfe2a",
   "metadata": {},
   "outputs": [],
   "source": [
    "numeric_nan_columns.remove('BsmtHalfBath')"
   ]
  },
  {
   "cell_type": "code",
   "execution_count": 15,
   "id": "a670c241-381e-4ba3-849e-80d102d6f299",
   "metadata": {},
   "outputs": [
    {
     "data": {
      "text/plain": [
       "['BsmtFullBath',\n",
       " 'BsmtUnfSF',\n",
       " 'BsmtFinSF1',\n",
       " 'GarageCars',\n",
       " 'GarageArea',\n",
       " 'GarageYrBlt',\n",
       " 'MasVnrArea',\n",
       " 'TotalBsmtSF',\n",
       " 'LotFrontage',\n",
       " 'BsmtFinSF2']"
      ]
     },
     "execution_count": 15,
     "metadata": {},
     "output_type": "execute_result"
    }
   ],
   "source": [
    "numeric_nan_columns"
   ]
  },
  {
   "cell_type": "markdown",
   "id": "9ba831b0-656b-40ae-bd0c-728628e64f57",
   "metadata": {},
   "source": [
    "## Dealing with 'BsmtFinSF1' attribute "
   ]
  },
  {
   "cell_type": "code",
   "execution_count": 16,
   "id": "356e9aa4-cdb8-4bc4-8bc0-26e400930fb4",
   "metadata": {},
   "outputs": [
    {
     "name": "stdout",
     "output_type": "stream",
     "text": [
      "BsmtFinSF1:\n",
      "Type 1 finished square feet\n"
     ]
    }
   ],
   "source": [
    "# 'BsmtFinSF1' attribute description\n",
    "print(get_attribute_description('data_description.txt', 'BsmtFinSF1'))"
   ]
  },
  {
   "cell_type": "code",
   "execution_count": 17,
   "id": "aefb0346-0029-4f9e-b0f1-b95000ecefac",
   "metadata": {},
   "outputs": [
    {
     "data": {
      "text/html": [
       "<div>\n",
       "<style scoped>\n",
       "    .dataframe tbody tr th:only-of-type {\n",
       "        vertical-align: middle;\n",
       "    }\n",
       "\n",
       "    .dataframe tbody tr th {\n",
       "        vertical-align: top;\n",
       "    }\n",
       "\n",
       "    .dataframe thead th {\n",
       "        text-align: right;\n",
       "    }\n",
       "</style>\n",
       "<table border=\"1\" class=\"dataframe\">\n",
       "  <thead>\n",
       "    <tr style=\"text-align: right;\">\n",
       "      <th></th>\n",
       "      <th>BsmtFinSF1</th>\n",
       "      <th>count</th>\n",
       "    </tr>\n",
       "  </thead>\n",
       "  <tbody>\n",
       "    <tr>\n",
       "      <th>0</th>\n",
       "      <td>0.0</td>\n",
       "      <td>462</td>\n",
       "    </tr>\n",
       "    <tr>\n",
       "      <th>6</th>\n",
       "      <td>16.0</td>\n",
       "      <td>5</td>\n",
       "    </tr>\n",
       "    <tr>\n",
       "      <th>28</th>\n",
       "      <td>20.0</td>\n",
       "      <td>3</td>\n",
       "    </tr>\n",
       "    <tr>\n",
       "      <th>1</th>\n",
       "      <td>24.0</td>\n",
       "      <td>15</td>\n",
       "    </tr>\n",
       "    <tr>\n",
       "      <th>192</th>\n",
       "      <td>28.0</td>\n",
       "      <td>2</td>\n",
       "    </tr>\n",
       "    <tr>\n",
       "      <th>...</th>\n",
       "      <td>...</td>\n",
       "      <td>...</td>\n",
       "    </tr>\n",
       "    <tr>\n",
       "      <th>456</th>\n",
       "      <td>2158.0</td>\n",
       "      <td>1</td>\n",
       "    </tr>\n",
       "    <tr>\n",
       "      <th>654</th>\n",
       "      <td>2257.0</td>\n",
       "      <td>1</td>\n",
       "    </tr>\n",
       "    <tr>\n",
       "      <th>447</th>\n",
       "      <td>2288.0</td>\n",
       "      <td>1</td>\n",
       "    </tr>\n",
       "    <tr>\n",
       "      <th>365</th>\n",
       "      <td>4010.0</td>\n",
       "      <td>1</td>\n",
       "    </tr>\n",
       "    <tr>\n",
       "      <th>553</th>\n",
       "      <td>NaN</td>\n",
       "      <td>1</td>\n",
       "    </tr>\n",
       "  </tbody>\n",
       "</table>\n",
       "<p>670 rows × 2 columns</p>\n",
       "</div>"
      ],
      "text/plain": [
       "     BsmtFinSF1  count\n",
       "0           0.0    462\n",
       "6          16.0      5\n",
       "28         20.0      3\n",
       "1          24.0     15\n",
       "192        28.0      2\n",
       "..          ...    ...\n",
       "456      2158.0      1\n",
       "654      2257.0      1\n",
       "447      2288.0      1\n",
       "365      4010.0      1\n",
       "553         NaN      1\n",
       "\n",
       "[670 rows x 2 columns]"
      ]
     },
     "execution_count": 17,
     "metadata": {},
     "output_type": "execute_result"
    }
   ],
   "source": [
    "data_train_BsmtFinSF1=data_train['BsmtFinSF1'].value_counts(dropna=False).reset_index()\n",
    "data_train_BsmtFinSF1.sort_values('BsmtFinSF1')"
   ]
  },
  {
   "cell_type": "code",
   "execution_count": 18,
   "id": "031dbdb6-2d45-4b4b-b67a-e9e2782530f7",
   "metadata": {},
   "outputs": [
    {
     "data": {
      "image/png": "[encoded data removed]",
      "text/plain": [
       "<Figure size 1000x600 with 1 Axes>"
      ]
     },
     "metadata": {},
     "output_type": "display_data"
    }
   ],
   "source": [
    "# defining a function to Calculate mode, mean, and median and plot the histogram\n",
    "def analyze_column(dataframe, column_name, xlabel,title):\n",
    "    # Calculate mode, mean, and median\n",
    "    mode_value = dataframe[column_name].mode()[0]  # Mode can return multiple values; take the first\n",
    "    mean_value = dataframe[column_name].mean()\n",
    "    median_value = dataframe[column_name].median()\n",
    "    skewness_value = dataframe[column_name].dropna().skew()  # Drop NaN values before calculating skewness\n",
    "\n",
    "    \n",
    "    # Plot the histogram\n",
    "    plt.figure(figsize=(10, 6))\n",
    "    sns.histplot(dataframe[column_name], kde=True,label=f'(Skewness: {skewness_value:.2f})',line_kws={'label': \"KDE fit\"})\n",
    "    \n",
    "    # Plot vertical lines for mode, mean, and median\n",
    "    plt.axvline(mode_value, color='red', linestyle='--', label=f'Mode: {mode_value}')\n",
    "    plt.axvline(mean_value, color='green', linestyle='--', label=f'Mean: {mean_value:.2f}')\n",
    "    plt.axvline(median_value, color='blue', linestyle='--', label=f'Median: {median_value}')\n",
    "    \n",
    "    # Annotate the values\n",
    "    plt.text(mode_value, plt.ylim()[1] * 0.9, f'Mode: {mode_value}', color='red', ha='center')\n",
    "    plt.text(mean_value, plt.ylim()[1] * 0.8, f'Mean: {mean_value:.2f}', color='green', ha='center')\n",
    "    plt.text(median_value, plt.ylim()[1] * 0.7, f'Median: {median_value}', color='blue', ha='center')    \n",
    "    \n",
    "    # Add labels and title\n",
    "    plt.title(f'Histogram of {title}')\n",
    "    plt.xlabel(xlabel)\n",
    "    plt.ylabel('Frequency')\n",
    "    plt.legend()\n",
    "    \n",
    "    # Show plot\n",
    "    plt.show()\n",
    "\n",
    "analyze_column(data_train, 'BsmtFinSF1', xlabel='Square feet',title= 'Type 1 finished square feet')"
   ]
  },
  {
   "cell_type": "code",
   "execution_count": 19,
   "id": "378006c3-4500-4c20-9cff-c7c2cbdadc17",
   "metadata": {},
   "outputs": [
    {
     "data": {
      "text/plain": [
       "count    1458.000000\n",
       "mean      439.203704\n",
       "std       455.268042\n",
       "min         0.000000\n",
       "25%         0.000000\n",
       "50%       350.500000\n",
       "75%       753.500000\n",
       "max      4010.000000\n",
       "Name: BsmtFinSF1, dtype: float64"
      ]
     },
     "execution_count": 19,
     "metadata": {},
     "output_type": "execute_result"
    }
   ],
   "source": [
    "data_train['BsmtFinSF1'].dropna().describe()"
   ]
  },
  {
   "cell_type": "markdown",
   "id": "2acb12c0-db13-4ff3-8075-6bc1a5b37ab2",
   "metadata": {},
   "source": [
    "<div style=\"background-color: lightblue; padding: 12px; border-radius: 5px;\">\n",
    "    \n",
    "<b>Infer\n",
    "    \n",
    "Since the data is continuous and has a skewness value of 1.16567669422342, indicating a positive skew (right-skewed distribution), the data is not symmetrically distributed and has a longer tail on the right side. Therefore, it is generally more appropriate to impute missing values with the median rather than the mean.\n",
    "</div>"
   ]
  },
  {
   "cell_type": "code",
   "execution_count": 20,
   "id": "48ae4187-be34-4d00-8139-35deab88f898",
   "metadata": {},
   "outputs": [],
   "source": [
    "# Replacing the missing values with Median\n",
    "data_train['BsmtFinSF1'].fillna(data_train['BsmtFinSF1'].median(), inplace=True)"
   ]
  },
  {
   "cell_type": "code",
   "execution_count": 21,
   "id": "44b188da-cd13-4ebc-a5f3-1e1eba1b04c9",
   "metadata": {},
   "outputs": [
    {
     "name": "stdout",
     "output_type": "stream",
     "text": [
      "<class 'pandas.core.series.Series'>\n",
      "RangeIndex: 1459 entries, 0 to 1458\n",
      "Series name: BsmtFinSF1\n",
      "Non-Null Count  Dtype  \n",
      "--------------  -----  \n",
      "1459 non-null   float64\n",
      "dtypes: float64(1)\n",
      "memory usage: 11.5 KB\n"
     ]
    }
   ],
   "source": [
    "data_train['BsmtFinSF1'].info()"
   ]
  },
  {
   "cell_type": "code",
   "execution_count": 22,
   "id": "b5030ea3-81e2-4e52-8d47-6ff48596a447",
   "metadata": {},
   "outputs": [],
   "source": [
    "numeric_nan_columns.remove('BsmtFinSF1')"
   ]
  },
  {
   "cell_type": "code",
   "execution_count": 23,
   "id": "1824d54c-6ece-4720-88da-aca857daf738",
   "metadata": {},
   "outputs": [
    {
     "data": {
      "text/plain": [
       "['BsmtFullBath',\n",
       " 'BsmtUnfSF',\n",
       " 'GarageCars',\n",
       " 'GarageArea',\n",
       " 'GarageYrBlt',\n",
       " 'MasVnrArea',\n",
       " 'TotalBsmtSF',\n",
       " 'LotFrontage',\n",
       " 'BsmtFinSF2']"
      ]
     },
     "execution_count": 23,
     "metadata": {},
     "output_type": "execute_result"
    }
   ],
   "source": [
    "numeric_nan_columns"
   ]
  },
  {
   "cell_type": "markdown",
   "id": "68a55a97-2219-48c3-afc1-579648895a26",
   "metadata": {
    "jp-MarkdownHeadingCollapsed": true
   },
   "source": [
    "## Dealing with 'GarageCars' attribute \t"
   ]
  },
  {
   "cell_type": "code",
   "execution_count": 24,
   "id": "e09f22a0-9e68-419f-95e4-4de5cdd8e3a2",
   "metadata": {},
   "outputs": [
    {
     "name": "stdout",
     "output_type": "stream",
     "text": [
      "GarageCars:\n",
      "Size of garage in car capacity\n"
     ]
    }
   ],
   "source": [
    "# 'BsmtFinSF1' attribute description\n",
    "print(get_attribute_description('data_description.txt', 'GarageCars'))"
   ]
  },
  {
   "cell_type": "code",
   "execution_count": 25,
   "id": "3ea4628c-ef76-49b8-8bdd-9c4b6738a3ce",
   "metadata": {},
   "outputs": [
    {
     "data": {
      "text/html": [
       "<div>\n",
       "<style scoped>\n",
       "    .dataframe tbody tr th:only-of-type {\n",
       "        vertical-align: middle;\n",
       "    }\n",
       "\n",
       "    .dataframe tbody tr th {\n",
       "        vertical-align: top;\n",
       "    }\n",
       "\n",
       "    .dataframe thead th {\n",
       "        text-align: right;\n",
       "    }\n",
       "</style>\n",
       "<table border=\"1\" class=\"dataframe\">\n",
       "  <thead>\n",
       "    <tr style=\"text-align: right;\">\n",
       "      <th></th>\n",
       "      <th>GarageCars</th>\n",
       "      <th>count</th>\n",
       "    </tr>\n",
       "  </thead>\n",
       "  <tbody>\n",
       "    <tr>\n",
       "      <th>3</th>\n",
       "      <td>0.0</td>\n",
       "      <td>76</td>\n",
       "    </tr>\n",
       "    <tr>\n",
       "      <th>1</th>\n",
       "      <td>1.0</td>\n",
       "      <td>407</td>\n",
       "    </tr>\n",
       "    <tr>\n",
       "      <th>0</th>\n",
       "      <td>2.0</td>\n",
       "      <td>770</td>\n",
       "    </tr>\n",
       "    <tr>\n",
       "      <th>2</th>\n",
       "      <td>3.0</td>\n",
       "      <td>193</td>\n",
       "    </tr>\n",
       "    <tr>\n",
       "      <th>4</th>\n",
       "      <td>4.0</td>\n",
       "      <td>11</td>\n",
       "    </tr>\n",
       "    <tr>\n",
       "      <th>5</th>\n",
       "      <td>5.0</td>\n",
       "      <td>1</td>\n",
       "    </tr>\n",
       "    <tr>\n",
       "      <th>6</th>\n",
       "      <td>NaN</td>\n",
       "      <td>1</td>\n",
       "    </tr>\n",
       "  </tbody>\n",
       "</table>\n",
       "</div>"
      ],
      "text/plain": [
       "   GarageCars  count\n",
       "3         0.0     76\n",
       "1         1.0    407\n",
       "0         2.0    770\n",
       "2         3.0    193\n",
       "4         4.0     11\n",
       "5         5.0      1\n",
       "6         NaN      1"
      ]
     },
     "execution_count": 25,
     "metadata": {},
     "output_type": "execute_result"
    }
   ],
   "source": [
    "data_train_GarageCars=data_train['GarageCars'].value_counts(dropna=False).reset_index()\n",
    "data_train_GarageCars.sort_values('GarageCars')"
   ]
  },
  {
   "cell_type": "code",
   "execution_count": 26,
   "id": "36cdc65e-f97d-4a25-bca5-b9c36db449cf",
   "metadata": {},
   "outputs": [
    {
     "data": {
      "image/png": "[encoded data removed]",
      "text/plain": [
       "<Figure size 400x400 with 1 Axes>"
      ]
     },
     "metadata": {},
     "output_type": "display_data"
    }
   ],
   "source": [
    "plt.figure(figsize=(4, 4))\n",
    "sns.barplot(x='GarageCars', y='count',hue='count',data=data_train_GarageCars.dropna(), palette='viridis')\n",
    "plt.xlabel(\"Garage Cars\")\n",
    "plt.ylabel(\"Count\")\n",
    "plt.title(\"Size of garage in car capacity\")\n",
    "plt.show()"
   ]
  },
  {
   "cell_type": "code",
   "execution_count": 27,
   "id": "0ffd9054-38d3-42a4-869d-128ec8145b56",
   "metadata": {},
   "outputs": [
    {
     "data": {
      "text/plain": [
       "-0.10714151559186293"
      ]
     },
     "execution_count": 27,
     "metadata": {},
     "output_type": "execute_result"
    }
   ],
   "source": [
    "data_train['GarageCars'].dropna().skew()"
   ]
  },
  {
   "cell_type": "code",
   "execution_count": 28,
   "id": "413c29ab-92c4-400d-b294-346a4e95c732",
   "metadata": {},
   "outputs": [
    {
     "data": {
      "text/plain": [
       "1.7661179698216736"
      ]
     },
     "execution_count": 28,
     "metadata": {},
     "output_type": "execute_result"
    }
   ],
   "source": [
    "data_train['GarageCars'].dropna().mean()"
   ]
  },
  {
   "cell_type": "markdown",
   "id": "06118513-6ca6-4023-b0da-7feee267a88b",
   "metadata": {},
   "source": [
    "<div style=\"background-color: lightblue; padding: 12px; border-radius: 5px;\">\n",
    "    \n",
    "<b>Infer\n",
    "    \n",
    "Since data is discrete and the skewness is very close to 0, suggesting that the distribution is nearly symmetrical, the Mode can be a choice for imputation. As it is a value that makes sense contextually and occurs most frequently.\n",
    "</div>"
   ]
  },
  {
   "cell_type": "code",
   "execution_count": 29,
   "id": "89201332-ad6f-4abe-8e9b-cd28eadd12aa",
   "metadata": {},
   "outputs": [],
   "source": [
    "# Calculate the mode\n",
    "mode_value = data_train['GarageCars'].mode()[0]\n",
    "\n",
    "# Impute the missing value with the mode\n",
    "data_train['GarageCars'].fillna(mode_value, inplace=True)"
   ]
  },
  {
   "cell_type": "code",
   "execution_count": 30,
   "id": "8c19a0b8-259f-43cc-8882-751d85e0023c",
   "metadata": {},
   "outputs": [
    {
     "name": "stdout",
     "output_type": "stream",
     "text": [
      "<class 'pandas.core.series.Series'>\n",
      "RangeIndex: 1459 entries, 0 to 1458\n",
      "Series name: GarageCars\n",
      "Non-Null Count  Dtype  \n",
      "--------------  -----  \n",
      "1459 non-null   float64\n",
      "dtypes: float64(1)\n",
      "memory usage: 11.5 KB\n"
     ]
    }
   ],
   "source": [
    "data_train['GarageCars'].info()"
   ]
  },
  {
   "cell_type": "code",
   "execution_count": 31,
   "id": "e1d79db6-1a30-4513-892d-3592ce60bb99",
   "metadata": {},
   "outputs": [],
   "source": [
    "numeric_nan_columns.remove('GarageCars')"
   ]
  },
  {
   "cell_type": "markdown",
   "id": "4cb6b3da-000d-41f8-a82d-07526b9a2a0c",
   "metadata": {
    "jp-MarkdownHeadingCollapsed": true
   },
   "source": [
    "## Dealing with 'LotFrontage' attribute \t"
   ]
  },
  {
   "cell_type": "code",
   "execution_count": 32,
   "id": "05d9e578-741b-4618-bef4-07d12d0008b9",
   "metadata": {},
   "outputs": [
    {
     "name": "stdout",
     "output_type": "stream",
     "text": [
      "LotFrontage:\n",
      "Linear feet of street connected to property\n"
     ]
    }
   ],
   "source": [
    "# 'LotFrontage' attribute description\n",
    "print(get_attribute_description('data_description.txt', 'LotFrontage'))"
   ]
  },
  {
   "cell_type": "code",
   "execution_count": 33,
   "id": "526b45b3-f976-42d9-ae21-1f383be64a13",
   "metadata": {},
   "outputs": [
    {
     "data": {
      "text/html": [
       "<div>\n",
       "<style scoped>\n",
       "    .dataframe tbody tr th:only-of-type {\n",
       "        vertical-align: middle;\n",
       "    }\n",
       "\n",
       "    .dataframe tbody tr th {\n",
       "        vertical-align: top;\n",
       "    }\n",
       "\n",
       "    .dataframe thead th {\n",
       "        text-align: right;\n",
       "    }\n",
       "</style>\n",
       "<table border=\"1\" class=\"dataframe\">\n",
       "  <thead>\n",
       "    <tr style=\"text-align: right;\">\n",
       "      <th></th>\n",
       "      <th>LotFrontage</th>\n",
       "      <th>count</th>\n",
       "    </tr>\n",
       "  </thead>\n",
       "  <tbody>\n",
       "    <tr>\n",
       "      <th>10</th>\n",
       "      <td>21.0</td>\n",
       "      <td>27</td>\n",
       "    </tr>\n",
       "    <tr>\n",
       "      <th>106</th>\n",
       "      <td>22.0</td>\n",
       "      <td>1</td>\n",
       "    </tr>\n",
       "    <tr>\n",
       "      <th>9</th>\n",
       "      <td>24.0</td>\n",
       "      <td>30</td>\n",
       "    </tr>\n",
       "    <tr>\n",
       "      <th>114</th>\n",
       "      <td>25.0</td>\n",
       "      <td>1</td>\n",
       "    </tr>\n",
       "    <tr>\n",
       "      <th>73</th>\n",
       "      <td>26.0</td>\n",
       "      <td>3</td>\n",
       "    </tr>\n",
       "    <tr>\n",
       "      <th>...</th>\n",
       "      <td>...</td>\n",
       "      <td>...</td>\n",
       "    </tr>\n",
       "    <tr>\n",
       "      <th>96</th>\n",
       "      <td>155.0</td>\n",
       "      <td>1</td>\n",
       "    </tr>\n",
       "    <tr>\n",
       "      <th>87</th>\n",
       "      <td>160.0</td>\n",
       "      <td>2</td>\n",
       "    </tr>\n",
       "    <tr>\n",
       "      <th>103</th>\n",
       "      <td>195.0</td>\n",
       "      <td>1</td>\n",
       "    </tr>\n",
       "    <tr>\n",
       "      <th>99</th>\n",
       "      <td>200.0</td>\n",
       "      <td>1</td>\n",
       "    </tr>\n",
       "    <tr>\n",
       "      <th>0</th>\n",
       "      <td>NaN</td>\n",
       "      <td>227</td>\n",
       "    </tr>\n",
       "  </tbody>\n",
       "</table>\n",
       "<p>116 rows × 2 columns</p>\n",
       "</div>"
      ],
      "text/plain": [
       "     LotFrontage  count\n",
       "10          21.0     27\n",
       "106         22.0      1\n",
       "9           24.0     30\n",
       "114         25.0      1\n",
       "73          26.0      3\n",
       "..           ...    ...\n",
       "96         155.0      1\n",
       "87         160.0      2\n",
       "103        195.0      1\n",
       "99         200.0      1\n",
       "0            NaN    227\n",
       "\n",
       "[116 rows x 2 columns]"
      ]
     },
     "execution_count": 33,
     "metadata": {},
     "output_type": "execute_result"
    }
   ],
   "source": [
    "data_train_LotFrontage=data_train['LotFrontage'].value_counts(dropna=False).reset_index()\n",
    "data_train_LotFrontage.sort_values('LotFrontage')"
   ]
  },
  {
   "cell_type": "code",
   "execution_count": 34,
   "id": "5675187f-5f20-48de-9de8-ac297f37561b",
   "metadata": {},
   "outputs": [
    {
     "data": {
      "image/png": "[encoded data removed]",
      "text/plain": [
       "<Figure size 1000x600 with 1 Axes>"
      ]
     },
     "metadata": {},
     "output_type": "display_data"
    }
   ],
   "source": [
    "analyze_column(data_train, 'LotFrontage', xlabel='Linear feet',title= 'Linear feet of street connected to property')"
   ]
  },
  {
   "cell_type": "markdown",
   "id": "c2a3daaa-8e5a-47b8-9f81-52297357ae39",
   "metadata": {},
   "source": [
    "<div style=\"background-color: lightblue; padding: 12px; border-radius: 5px;\">\n",
    "    \n",
    "<b>Infer\n",
    "    \n",
    "For imputing the missing value in this context Median is  best choice given the moderate positive skew. It ensures the imputed value is a robust measure of central tendency, not influenced by the skew.\n",
    "</div>"
   ]
  },
  {
   "cell_type": "code",
   "execution_count": 35,
   "id": "4da61839-d247-4c1c-9a4f-1aaad2a4fd1e",
   "metadata": {},
   "outputs": [],
   "source": [
    "# Calculate the median\n",
    "median_value = data_train['LotFrontage'].median()\n",
    "\n",
    "# Impute the missing value with the median\n",
    "data_train['LotFrontage'].fillna(median_value, inplace=True)"
   ]
  },
  {
   "cell_type": "code",
   "execution_count": 36,
   "id": "a4651990-3dcf-483c-bd95-3489da545706",
   "metadata": {},
   "outputs": [
    {
     "name": "stdout",
     "output_type": "stream",
     "text": [
      "<class 'pandas.core.series.Series'>\n",
      "RangeIndex: 1459 entries, 0 to 1458\n",
      "Series name: LotFrontage\n",
      "Non-Null Count  Dtype  \n",
      "--------------  -----  \n",
      "1459 non-null   float64\n",
      "dtypes: float64(1)\n",
      "memory usage: 11.5 KB\n"
     ]
    }
   ],
   "source": [
    "data_train['LotFrontage'].info()"
   ]
  },
  {
   "cell_type": "code",
   "execution_count": 37,
   "id": "5f18a0ef-a15d-40d1-9158-2e00cf018b7b",
   "metadata": {},
   "outputs": [
    {
     "data": {
      "text/plain": [
       "['BsmtFullBath',\n",
       " 'BsmtUnfSF',\n",
       " 'GarageArea',\n",
       " 'GarageYrBlt',\n",
       " 'MasVnrArea',\n",
       " 'TotalBsmtSF',\n",
       " 'BsmtFinSF2']"
      ]
     },
     "execution_count": 37,
     "metadata": {},
     "output_type": "execute_result"
    }
   ],
   "source": [
    "numeric_nan_columns.remove('LotFrontage')\n",
    "numeric_nan_columns"
   ]
  },
  {
   "cell_type": "markdown",
   "id": "5100c7be-91a7-42f8-8ce9-8838012afdb9",
   "metadata": {
    "jp-MarkdownHeadingCollapsed": true
   },
   "source": [
    "## Dealing with 'BsmtUnfSF' attribute \t"
   ]
  },
  {
   "cell_type": "code",
   "execution_count": 38,
   "id": "c9b9f573-09b3-47cb-8d3f-b6387e03988f",
   "metadata": {},
   "outputs": [
    {
     "name": "stdout",
     "output_type": "stream",
     "text": [
      "BsmtUnfSF:\n",
      "Unfinished square feet of basement area\n"
     ]
    }
   ],
   "source": [
    "# 'BsmtUnfSF' attribute description\n",
    "print(get_attribute_description('data_description.txt', 'BsmtUnfSF'))"
   ]
  },
  {
   "cell_type": "code",
   "execution_count": 39,
   "id": "f68ae103-ace0-44b1-a3bc-c9acff7fb0eb",
   "metadata": {},
   "outputs": [
    {
     "data": {
      "text/html": [
       "<div>\n",
       "<style scoped>\n",
       "    .dataframe tbody tr th:only-of-type {\n",
       "        vertical-align: middle;\n",
       "    }\n",
       "\n",
       "    .dataframe tbody tr th {\n",
       "        vertical-align: top;\n",
       "    }\n",
       "\n",
       "    .dataframe thead th {\n",
       "        text-align: right;\n",
       "    }\n",
       "</style>\n",
       "<table border=\"1\" class=\"dataframe\">\n",
       "  <thead>\n",
       "    <tr style=\"text-align: right;\">\n",
       "      <th></th>\n",
       "      <th>BsmtUnfSF</th>\n",
       "      <th>count</th>\n",
       "    </tr>\n",
       "  </thead>\n",
       "  <tbody>\n",
       "    <tr>\n",
       "      <th>0</th>\n",
       "      <td>0.0</td>\n",
       "      <td>123</td>\n",
       "    </tr>\n",
       "    <tr>\n",
       "      <th>442</th>\n",
       "      <td>17.0</td>\n",
       "      <td>1</td>\n",
       "    </tr>\n",
       "    <tr>\n",
       "      <th>512</th>\n",
       "      <td>20.0</td>\n",
       "      <td>1</td>\n",
       "    </tr>\n",
       "    <tr>\n",
       "      <th>378</th>\n",
       "      <td>22.0</td>\n",
       "      <td>1</td>\n",
       "    </tr>\n",
       "    <tr>\n",
       "      <th>111</th>\n",
       "      <td>25.0</td>\n",
       "      <td>3</td>\n",
       "    </tr>\n",
       "    <tr>\n",
       "      <th>...</th>\n",
       "      <td>...</td>\n",
       "      <td>...</td>\n",
       "    </tr>\n",
       "    <tr>\n",
       "      <th>641</th>\n",
       "      <td>1958.0</td>\n",
       "      <td>1</td>\n",
       "    </tr>\n",
       "    <tr>\n",
       "      <th>452</th>\n",
       "      <td>1967.0</td>\n",
       "      <td>1</td>\n",
       "    </tr>\n",
       "    <tr>\n",
       "      <th>403</th>\n",
       "      <td>2062.0</td>\n",
       "      <td>1</td>\n",
       "    </tr>\n",
       "    <tr>\n",
       "      <th>498</th>\n",
       "      <td>2140.0</td>\n",
       "      <td>1</td>\n",
       "    </tr>\n",
       "    <tr>\n",
       "      <th>692</th>\n",
       "      <td>NaN</td>\n",
       "      <td>1</td>\n",
       "    </tr>\n",
       "  </tbody>\n",
       "</table>\n",
       "<p>794 rows × 2 columns</p>\n",
       "</div>"
      ],
      "text/plain": [
       "     BsmtUnfSF  count\n",
       "0          0.0    123\n",
       "442       17.0      1\n",
       "512       20.0      1\n",
       "378       22.0      1\n",
       "111       25.0      3\n",
       "..         ...    ...\n",
       "641     1958.0      1\n",
       "452     1967.0      1\n",
       "403     2062.0      1\n",
       "498     2140.0      1\n",
       "692        NaN      1\n",
       "\n",
       "[794 rows x 2 columns]"
      ]
     },
     "execution_count": 39,
     "metadata": {},
     "output_type": "execute_result"
    }
   ],
   "source": [
    "data_train_BsmtUnfSF=data_train['BsmtUnfSF'].value_counts(dropna=False).reset_index()\n",
    "data_train_BsmtUnfSF.sort_values('BsmtUnfSF')"
   ]
  },
  {
   "cell_type": "code",
   "execution_count": 40,
   "id": "c2cf769a-e652-4ee2-bb40-f9ec90a5bebb",
   "metadata": {},
   "outputs": [
    {
     "data": {
      "image/png": "[encoded data removed]",
      "text/plain": [
       "<Figure size 1000x600 with 1 Axes>"
      ]
     },
     "metadata": {},
     "output_type": "display_data"
    }
   ],
   "source": [
    "analyze_column(data_train, 'BsmtUnfSF', xlabel='square feet',title= 'Unfinished square feet of basement area')"
   ]
  },
  {
   "cell_type": "code",
   "execution_count": 41,
   "id": "5380cc70-591f-4029-af35-c49737a13407",
   "metadata": {},
   "outputs": [
    {
     "data": {
      "text/plain": [
       "count    1458.000000\n",
       "mean      554.294925\n",
       "std       437.260486\n",
       "min         0.000000\n",
       "25%       219.250000\n",
       "50%       460.000000\n",
       "75%       797.750000\n",
       "max      2140.000000\n",
       "Name: BsmtUnfSF, dtype: float64"
      ]
     },
     "execution_count": 41,
     "metadata": {},
     "output_type": "execute_result"
    }
   ],
   "source": [
    "data_train['BsmtUnfSF'].describe()"
   ]
  },
  {
   "cell_type": "markdown",
   "id": "7829136d-17eb-4307-9a8c-9a74c00ee076",
   "metadata": {},
   "source": [
    "<div style=\"background-color: lightblue; padding: 12px; border-radius: 5px;\">\n",
    "    \n",
    "<b>Infer\n",
    "    \n",
    "For imputing the missing value in this context Median is  best choice given the positive skew 0.92. It ensures the imputed value is a robust measure of central tendency, not influenced by the skew.\n",
    "</div>"
   ]
  },
  {
   "cell_type": "code",
   "execution_count": 42,
   "id": "0ee2799e-1d48-44c4-9905-329895edbcef",
   "metadata": {},
   "outputs": [],
   "source": [
    "# Calculate the median\n",
    "median_value = data_train['BsmtUnfSF'].median()\n",
    "\n",
    "# Impute the missing value with the median\n",
    "data_train['BsmtUnfSF'].fillna(median_value, inplace=True)"
   ]
  },
  {
   "cell_type": "code",
   "execution_count": 43,
   "id": "9f8c1f55-2edc-4e2f-8d51-36581f38173d",
   "metadata": {},
   "outputs": [
    {
     "name": "stdout",
     "output_type": "stream",
     "text": [
      "<class 'pandas.core.series.Series'>\n",
      "RangeIndex: 1459 entries, 0 to 1458\n",
      "Series name: BsmtUnfSF\n",
      "Non-Null Count  Dtype  \n",
      "--------------  -----  \n",
      "1459 non-null   float64\n",
      "dtypes: float64(1)\n",
      "memory usage: 11.5 KB\n"
     ]
    }
   ],
   "source": [
    "data_train['BsmtUnfSF'].info()"
   ]
  },
  {
   "cell_type": "code",
   "execution_count": 44,
   "id": "c1b5053f-8886-4e5c-b21a-3b0097d034d6",
   "metadata": {},
   "outputs": [
    {
     "data": {
      "text/plain": [
       "['BsmtFullBath',\n",
       " 'GarageArea',\n",
       " 'GarageYrBlt',\n",
       " 'MasVnrArea',\n",
       " 'TotalBsmtSF',\n",
       " 'BsmtFinSF2']"
      ]
     },
     "execution_count": 44,
     "metadata": {},
     "output_type": "execute_result"
    }
   ],
   "source": [
    "numeric_nan_columns.remove('BsmtUnfSF')\n",
    "numeric_nan_columns"
   ]
  },
  {
   "cell_type": "markdown",
   "id": "e5380d44-3bbf-405f-8c41-1e5e1e6ca4ff",
   "metadata": {
    "jp-MarkdownHeadingCollapsed": true
   },
   "source": [
    "## Dealing with 'MasVnrArea' attribute \t"
   ]
  },
  {
   "cell_type": "code",
   "execution_count": 45,
   "id": "37a51801-f88b-4d4a-b127-0c81a772bdab",
   "metadata": {},
   "outputs": [
    {
     "name": "stdout",
     "output_type": "stream",
     "text": [
      "MasVnrArea:\n",
      "Masonry veneer area in square feet\n"
     ]
    }
   ],
   "source": [
    "# 'MasVnrArea' attribute description\n",
    "print(get_attribute_description('data_description.txt', 'MasVnrArea'))"
   ]
  },
  {
   "cell_type": "code",
   "execution_count": 46,
   "id": "6e73d6c2-8445-4395-ae64-dc07f0396e8f",
   "metadata": {},
   "outputs": [
    {
     "data": {
      "text/html": [
       "<div>\n",
       "<style scoped>\n",
       "    .dataframe tbody tr th:only-of-type {\n",
       "        vertical-align: middle;\n",
       "    }\n",
       "\n",
       "    .dataframe tbody tr th {\n",
       "        vertical-align: top;\n",
       "    }\n",
       "\n",
       "    .dataframe thead th {\n",
       "        text-align: right;\n",
       "    }\n",
       "</style>\n",
       "<table border=\"1\" class=\"dataframe\">\n",
       "  <thead>\n",
       "    <tr style=\"text-align: right;\">\n",
       "      <th></th>\n",
       "      <th>MasVnrArea</th>\n",
       "      <th>count</th>\n",
       "    </tr>\n",
       "  </thead>\n",
       "  <tbody>\n",
       "    <tr>\n",
       "      <th>0</th>\n",
       "      <td>0.0</td>\n",
       "      <td>877</td>\n",
       "    </tr>\n",
       "    <tr>\n",
       "      <th>127</th>\n",
       "      <td>1.0</td>\n",
       "      <td>1</td>\n",
       "    </tr>\n",
       "    <tr>\n",
       "      <th>226</th>\n",
       "      <td>3.0</td>\n",
       "      <td>1</td>\n",
       "    </tr>\n",
       "    <tr>\n",
       "      <th>63</th>\n",
       "      <td>14.0</td>\n",
       "      <td>3</td>\n",
       "    </tr>\n",
       "    <tr>\n",
       "      <th>22</th>\n",
       "      <td>16.0</td>\n",
       "      <td>4</td>\n",
       "    </tr>\n",
       "    <tr>\n",
       "      <th>...</th>\n",
       "      <td>...</td>\n",
       "      <td>...</td>\n",
       "    </tr>\n",
       "    <tr>\n",
       "      <th>295</th>\n",
       "      <td>1110.0</td>\n",
       "      <td>1</td>\n",
       "    </tr>\n",
       "    <tr>\n",
       "      <th>237</th>\n",
       "      <td>1159.0</td>\n",
       "      <td>1</td>\n",
       "    </tr>\n",
       "    <tr>\n",
       "      <th>93</th>\n",
       "      <td>1224.0</td>\n",
       "      <td>2</td>\n",
       "    </tr>\n",
       "    <tr>\n",
       "      <th>300</th>\n",
       "      <td>1290.0</td>\n",
       "      <td>1</td>\n",
       "    </tr>\n",
       "    <tr>\n",
       "      <th>1</th>\n",
       "      <td>NaN</td>\n",
       "      <td>15</td>\n",
       "    </tr>\n",
       "  </tbody>\n",
       "</table>\n",
       "<p>304 rows × 2 columns</p>\n",
       "</div>"
      ],
      "text/plain": [
       "     MasVnrArea  count\n",
       "0           0.0    877\n",
       "127         1.0      1\n",
       "226         3.0      1\n",
       "63         14.0      3\n",
       "22         16.0      4\n",
       "..          ...    ...\n",
       "295      1110.0      1\n",
       "237      1159.0      1\n",
       "93       1224.0      2\n",
       "300      1290.0      1\n",
       "1           NaN     15\n",
       "\n",
       "[304 rows x 2 columns]"
      ]
     },
     "execution_count": 46,
     "metadata": {},
     "output_type": "execute_result"
    }
   ],
   "source": [
    "data_train_MasVnrArea=data_train['MasVnrArea'].value_counts(dropna=False).reset_index()\n",
    "data_train_MasVnrArea.sort_values('MasVnrArea')"
   ]
  },
  {
   "cell_type": "code",
   "execution_count": 47,
   "id": "1d177dbc-7b9a-49ec-8046-cb0226bcc976",
   "metadata": {},
   "outputs": [
    {
     "data": {
      "image/png": "[encoded data removed]",
      "text/plain": [
       "<Figure size 1000x600 with 1 Axes>"
      ]
     },
     "metadata": {},
     "output_type": "display_data"
    }
   ],
   "source": [
    "analyze_column(data_train, 'MasVnrArea', xlabel='square feet',title= 'Masonry veneer area in square feet')"
   ]
  },
  {
   "cell_type": "code",
   "execution_count": 48,
   "id": "421621c5-b5a3-4535-895c-5f1389491375",
   "metadata": {},
   "outputs": [
    {
     "data": {
      "text/plain": [
       "count    1444.000000\n",
       "mean      100.709141\n",
       "std       177.625900\n",
       "min         0.000000\n",
       "25%         0.000000\n",
       "50%         0.000000\n",
       "75%       164.000000\n",
       "max      1290.000000\n",
       "Name: MasVnrArea, dtype: float64"
      ]
     },
     "execution_count": 48,
     "metadata": {},
     "output_type": "execute_result"
    }
   ],
   "source": [
    "data_train['MasVnrArea'].describe()"
   ]
  },
  {
   "cell_type": "markdown",
   "id": "139590b8-adb4-448e-958f-788393f3361a",
   "metadata": {},
   "source": [
    "<div style=\"background-color: lightblue; padding: 12px; border-radius: 5px;\">\n",
    "    \n",
    "<b>Infer\n",
    "    \n",
    "For imputing the missing value in this context, the Mode can be a choice for imputation. \n",
    "</div>"
   ]
  },
  {
   "cell_type": "code",
   "execution_count": 49,
   "id": "d9604562-c58d-4646-99aa-58e725fb809b",
   "metadata": {},
   "outputs": [],
   "source": [
    "# Calculate the mode\n",
    "mode_value = data_train['MasVnrArea'].mode()[0]\n",
    "\n",
    "# Impute the missing value with the mode\n",
    "data_train['MasVnrArea'].fillna(mode_value, inplace=True)"
   ]
  },
  {
   "cell_type": "code",
   "execution_count": 50,
   "id": "88fd08c8-ee8e-4b17-928d-7108e61e240e",
   "metadata": {},
   "outputs": [
    {
     "name": "stdout",
     "output_type": "stream",
     "text": [
      "<class 'pandas.core.series.Series'>\n",
      "RangeIndex: 1459 entries, 0 to 1458\n",
      "Series name: MasVnrArea\n",
      "Non-Null Count  Dtype  \n",
      "--------------  -----  \n",
      "1459 non-null   float64\n",
      "dtypes: float64(1)\n",
      "memory usage: 11.5 KB\n"
     ]
    }
   ],
   "source": [
    "data_train['MasVnrArea'].info()"
   ]
  },
  {
   "cell_type": "code",
   "execution_count": 51,
   "id": "a233a23e-c709-4e43-b152-7bd1de7d50e2",
   "metadata": {},
   "outputs": [
    {
     "data": {
      "text/plain": [
       "['BsmtFullBath', 'GarageArea', 'GarageYrBlt', 'TotalBsmtSF', 'BsmtFinSF2']"
      ]
     },
     "execution_count": 51,
     "metadata": {},
     "output_type": "execute_result"
    }
   ],
   "source": [
    "numeric_nan_columns.remove('MasVnrArea')\n",
    "numeric_nan_columns"
   ]
  },
  {
   "cell_type": "markdown",
   "id": "80885a8f-8ff2-499b-94bb-372c1db076dc",
   "metadata": {
    "jp-MarkdownHeadingCollapsed": true
   },
   "source": [
    "## Dealing with 'GarageYrBlt' attribute \t"
   ]
  },
  {
   "cell_type": "code",
   "execution_count": 52,
   "id": "d5a4be1e-5e57-4096-8be4-9b530f9dd5b3",
   "metadata": {},
   "outputs": [
    {
     "name": "stdout",
     "output_type": "stream",
     "text": [
      "GarageYrBlt:\n",
      "Year garage was built\n"
     ]
    },
    {
     "data": {
      "text/html": [
       "<div>\n",
       "<style scoped>\n",
       "    .dataframe tbody tr th:only-of-type {\n",
       "        vertical-align: middle;\n",
       "    }\n",
       "\n",
       "    .dataframe tbody tr th {\n",
       "        vertical-align: top;\n",
       "    }\n",
       "\n",
       "    .dataframe thead th {\n",
       "        text-align: right;\n",
       "    }\n",
       "</style>\n",
       "<table border=\"1\" class=\"dataframe\">\n",
       "  <thead>\n",
       "    <tr style=\"text-align: right;\">\n",
       "      <th></th>\n",
       "      <th>GarageYrBlt</th>\n",
       "      <th>count</th>\n",
       "    </tr>\n",
       "  </thead>\n",
       "  <tbody>\n",
       "    <tr>\n",
       "      <th>94</th>\n",
       "      <td>1895.0</td>\n",
       "      <td>1</td>\n",
       "    </tr>\n",
       "    <tr>\n",
       "      <th>90</th>\n",
       "      <td>1896.0</td>\n",
       "      <td>1</td>\n",
       "    </tr>\n",
       "    <tr>\n",
       "      <th>74</th>\n",
       "      <td>1900.0</td>\n",
       "      <td>5</td>\n",
       "    </tr>\n",
       "    <tr>\n",
       "      <th>63</th>\n",
       "      <td>1910.0</td>\n",
       "      <td>7</td>\n",
       "    </tr>\n",
       "    <tr>\n",
       "      <th>73</th>\n",
       "      <td>1915.0</td>\n",
       "      <td>5</td>\n",
       "    </tr>\n",
       "    <tr>\n",
       "      <th>...</th>\n",
       "      <td>...</td>\n",
       "      <td>...</td>\n",
       "    </tr>\n",
       "    <tr>\n",
       "      <th>6</th>\n",
       "      <td>2008.0</td>\n",
       "      <td>32</td>\n",
       "    </tr>\n",
       "    <tr>\n",
       "      <th>60</th>\n",
       "      <td>2009.0</td>\n",
       "      <td>8</td>\n",
       "    </tr>\n",
       "    <tr>\n",
       "      <th>86</th>\n",
       "      <td>2010.0</td>\n",
       "      <td>2</td>\n",
       "    </tr>\n",
       "    <tr>\n",
       "      <th>92</th>\n",
       "      <td>2207.0</td>\n",
       "      <td>1</td>\n",
       "    </tr>\n",
       "    <tr>\n",
       "      <th>0</th>\n",
       "      <td>NaN</td>\n",
       "      <td>78</td>\n",
       "    </tr>\n",
       "  </tbody>\n",
       "</table>\n",
       "<p>98 rows × 2 columns</p>\n",
       "</div>"
      ],
      "text/plain": [
       "    GarageYrBlt  count\n",
       "94       1895.0      1\n",
       "90       1896.0      1\n",
       "74       1900.0      5\n",
       "63       1910.0      7\n",
       "73       1915.0      5\n",
       "..          ...    ...\n",
       "6        2008.0     32\n",
       "60       2009.0      8\n",
       "86       2010.0      2\n",
       "92       2207.0      1\n",
       "0           NaN     78\n",
       "\n",
       "[98 rows x 2 columns]"
      ]
     },
     "execution_count": 52,
     "metadata": {},
     "output_type": "execute_result"
    }
   ],
   "source": [
    "# 'GarageYrBlt' attribute description\n",
    "print(get_attribute_description('data_description.txt', 'GarageYrBlt'))\n",
    "\n",
    "data_train_MasVnrArea=data_train['GarageYrBlt'].value_counts(dropna=False).reset_index()\n",
    "data_train_MasVnrArea.sort_values('GarageYrBlt')"
   ]
  },
  {
   "cell_type": "code",
   "execution_count": 53,
   "id": "8df6b3ad-580d-4d14-8413-8e33ba0f2d32",
   "metadata": {},
   "outputs": [
    {
     "data": {
      "text/plain": [
       "Text(0.5, 0, 'Year')"
      ]
     },
     "execution_count": 53,
     "metadata": {},
     "output_type": "execute_result"
    },
    {
     "data": {
      "image/png": "[encoded data removed]",
      "text/plain": [
       "<Figure size 600x400 with 1 Axes>"
      ]
     },
     "metadata": {},
     "output_type": "display_data"
    }
   ],
   "source": [
    "plt.figure(figsize=(6, 4))\n",
    "sns.boxplot(x=data_train['GarageYrBlt'].dropna())\n",
    "plt.xlabel('Year')"
   ]
  },
  {
   "cell_type": "markdown",
   "id": "ffce3e1c-f113-478e-be20-6264130f48de",
   "metadata": {},
   "source": [
    "<div style=\"background-color: lightblue; padding: 12px; border-radius: 5px;\">\n",
    "    \n",
    "<b>Infer\n",
    "    \n",
    "The house with the Id of 92, the Year garage was built is 2207. This data is clearly an outlier and not compatible with the context. So this value should be replaced too.\r\n",
    " \n",
    "</div>"
   ]
  },
  {
   "cell_type": "code",
   "execution_count": 54,
   "id": "6be15cca-7cbe-4467-8c47-e6963e3d1453",
   "metadata": {},
   "outputs": [],
   "source": [
    "# replacing the data 2207 with NaN\n",
    "data_train['GarageYrBlt'].replace(2207, np.nan, inplace=True)"
   ]
  },
  {
   "cell_type": "code",
   "execution_count": 55,
   "id": "7beb88f9-b138-4db9-86f9-c171c7bb79be",
   "metadata": {},
   "outputs": [
    {
     "data": {
      "image/png": "[encoded data removed]",
      "text/plain": [
       "<Figure size 1000x600 with 1 Axes>"
      ]
     },
     "metadata": {},
     "output_type": "display_data"
    }
   ],
   "source": [
    "analyze_column(data_train, 'GarageYrBlt', xlabel='Year',title= 'Year garage was built')"
   ]
  },
  {
   "cell_type": "markdown",
   "id": "db78f71c-90ab-46aa-ae6f-603d008ab700",
   "metadata": {},
   "source": [
    "<div style=\"background-color: lightblue; padding: 12px; border-radius: 5px;\">\n",
    "    \n",
    "<b>Infer\n",
    "    \n",
    "For imputing the missing value in this context, the Median can be a choice for imputation.\n",
    " \n",
    "</div>"
   ]
  },
  {
   "cell_type": "code",
   "execution_count": 56,
   "id": "ffafac0f-12c7-4f12-ab32-f68e01b70f1e",
   "metadata": {},
   "outputs": [
    {
     "data": {
      "text/plain": [
       "count    1380.000000\n",
       "mean     1977.555072\n",
       "std        25.709241\n",
       "min      1895.000000\n",
       "25%      1959.000000\n",
       "50%      1979.000000\n",
       "75%      2002.000000\n",
       "max      2010.000000\n",
       "Name: GarageYrBlt, dtype: float64"
      ]
     },
     "execution_count": 56,
     "metadata": {},
     "output_type": "execute_result"
    }
   ],
   "source": [
    "data_train['GarageYrBlt'].describe()"
   ]
  },
  {
   "cell_type": "code",
   "execution_count": 57,
   "id": "887da063-90ca-4cb6-9522-cc7d7d0cfd36",
   "metadata": {},
   "outputs": [],
   "source": [
    "# Calculate the mode\n",
    "median_value = data_train['GarageYrBlt'].median()\n",
    "\n",
    "# Impute the missing value with the mode\n",
    "data_train['GarageYrBlt'].fillna(median_value, inplace=True)"
   ]
  },
  {
   "cell_type": "code",
   "execution_count": 58,
   "id": "8e44bd57-682a-4dac-8b7f-a4317d7aa8d8",
   "metadata": {},
   "outputs": [
    {
     "name": "stdout",
     "output_type": "stream",
     "text": [
      "<class 'pandas.core.series.Series'>\n",
      "RangeIndex: 1459 entries, 0 to 1458\n",
      "Series name: GarageYrBlt\n",
      "Non-Null Count  Dtype  \n",
      "--------------  -----  \n",
      "1459 non-null   float64\n",
      "dtypes: float64(1)\n",
      "memory usage: 11.5 KB\n"
     ]
    }
   ],
   "source": [
    "data_train['GarageYrBlt'].info()"
   ]
  },
  {
   "cell_type": "code",
   "execution_count": 59,
   "id": "5ee1d1cd-5a94-4117-9b5d-b02dd29d1474",
   "metadata": {},
   "outputs": [
    {
     "data": {
      "text/plain": [
       "['BsmtFullBath', 'GarageArea', 'TotalBsmtSF', 'BsmtFinSF2']"
      ]
     },
     "execution_count": 59,
     "metadata": {},
     "output_type": "execute_result"
    }
   ],
   "source": [
    "numeric_nan_columns.remove('GarageYrBlt')\n",
    "numeric_nan_columns"
   ]
  },
  {
   "cell_type": "markdown",
   "id": "fa2e2bc9-7be0-4c8a-9666-92d522686986",
   "metadata": {
    "jp-MarkdownHeadingCollapsed": true
   },
   "source": [
    "## Dealing with 'GarageArea' attribute"
   ]
  },
  {
   "cell_type": "code",
   "execution_count": 60,
   "id": "e7543011-6018-41f3-b760-0139c94a431c",
   "metadata": {},
   "outputs": [
    {
     "name": "stdout",
     "output_type": "stream",
     "text": [
      "GarageArea:\n",
      "Size of garage in square feet\n"
     ]
    },
    {
     "data": {
      "text/html": [
       "<div>\n",
       "<style scoped>\n",
       "    .dataframe tbody tr th:only-of-type {\n",
       "        vertical-align: middle;\n",
       "    }\n",
       "\n",
       "    .dataframe tbody tr th {\n",
       "        vertical-align: top;\n",
       "    }\n",
       "\n",
       "    .dataframe thead th {\n",
       "        text-align: right;\n",
       "    }\n",
       "</style>\n",
       "<table border=\"1\" class=\"dataframe\">\n",
       "  <thead>\n",
       "    <tr style=\"text-align: right;\">\n",
       "      <th></th>\n",
       "      <th>GarageArea</th>\n",
       "      <th>count</th>\n",
       "    </tr>\n",
       "  </thead>\n",
       "  <tbody>\n",
       "    <tr>\n",
       "      <th>0</th>\n",
       "      <td>0.0</td>\n",
       "      <td>76</td>\n",
       "    </tr>\n",
       "    <tr>\n",
       "      <th>298</th>\n",
       "      <td>100.0</td>\n",
       "      <td>1</td>\n",
       "    </tr>\n",
       "    <tr>\n",
       "      <th>428</th>\n",
       "      <td>160.0</td>\n",
       "      <td>1</td>\n",
       "    </tr>\n",
       "    <tr>\n",
       "      <th>222</th>\n",
       "      <td>162.0</td>\n",
       "      <td>2</td>\n",
       "    </tr>\n",
       "    <tr>\n",
       "      <th>401</th>\n",
       "      <td>164.0</td>\n",
       "      <td>1</td>\n",
       "    </tr>\n",
       "    <tr>\n",
       "      <th>...</th>\n",
       "      <td>...</td>\n",
       "      <td>...</td>\n",
       "    </tr>\n",
       "    <tr>\n",
       "      <th>368</th>\n",
       "      <td>1231.0</td>\n",
       "      <td>1</td>\n",
       "    </tr>\n",
       "    <tr>\n",
       "      <th>443</th>\n",
       "      <td>1314.0</td>\n",
       "      <td>1</td>\n",
       "    </tr>\n",
       "    <tr>\n",
       "      <th>407</th>\n",
       "      <td>1348.0</td>\n",
       "      <td>1</td>\n",
       "    </tr>\n",
       "    <tr>\n",
       "      <th>458</th>\n",
       "      <td>1488.0</td>\n",
       "      <td>1</td>\n",
       "    </tr>\n",
       "    <tr>\n",
       "      <th>297</th>\n",
       "      <td>NaN</td>\n",
       "      <td>1</td>\n",
       "    </tr>\n",
       "  </tbody>\n",
       "</table>\n",
       "<p>460 rows × 2 columns</p>\n",
       "</div>"
      ],
      "text/plain": [
       "     GarageArea  count\n",
       "0           0.0     76\n",
       "298       100.0      1\n",
       "428       160.0      1\n",
       "222       162.0      2\n",
       "401       164.0      1\n",
       "..          ...    ...\n",
       "368      1231.0      1\n",
       "443      1314.0      1\n",
       "407      1348.0      1\n",
       "458      1488.0      1\n",
       "297         NaN      1\n",
       "\n",
       "[460 rows x 2 columns]"
      ]
     },
     "execution_count": 60,
     "metadata": {},
     "output_type": "execute_result"
    }
   ],
   "source": [
    "# 'GarageYrBlt' attribute description\n",
    "attribute_name = 'GarageArea'\n",
    "print(get_attribute_description('data_description.txt', attribute_name))\n",
    "\n",
    "data_train_MasVnrArea=data_train[attribute_name].value_counts(dropna=False).reset_index()\n",
    "data_train_MasVnrArea.sort_values(attribute_name)"
   ]
  },
  {
   "cell_type": "code",
   "execution_count": 61,
   "id": "4a6480bd-714e-4104-a30a-ce939d2df7e5",
   "metadata": {},
   "outputs": [
    {
     "data": {
      "text/plain": [
       "Text(0.5, 0, 'square feet')"
      ]
     },
     "execution_count": 61,
     "metadata": {},
     "output_type": "execute_result"
    },
    {
     "data": {
      "image/png": "[encoded data removed]",
      "text/plain": [
       "<Figure size 600x400 with 1 Axes>"
      ]
     },
     "metadata": {},
     "output_type": "display_data"
    }
   ],
   "source": [
    "plt.figure(figsize=(6, 4))\n",
    "sns.boxplot(x=data_train[attribute_name].dropna())\n",
    "plt.xlabel('square feet')"
   ]
  },
  {
   "cell_type": "code",
   "execution_count": 62,
   "id": "c5b5f78d-a200-415b-b772-703883d130bb",
   "metadata": {},
   "outputs": [
    {
     "data": {
      "image/png": "[encoded data removed]",
      "text/plain": [
       "<Figure size 1000x600 with 1 Axes>"
      ]
     },
     "metadata": {},
     "output_type": "display_data"
    }
   ],
   "source": [
    "analyze_column(data_train, attribute_name, xlabel='square feet',title= 'Size of garage in square feet')"
   ]
  },
  {
   "cell_type": "code",
   "execution_count": 63,
   "id": "8bb83ac5-9593-4771-9a6f-edd23ee17bd3",
   "metadata": {},
   "outputs": [
    {
     "data": {
      "text/plain": [
       "count    1458.000000\n",
       "mean      472.768861\n",
       "std       217.048611\n",
       "min         0.000000\n",
       "25%       318.000000\n",
       "50%       480.000000\n",
       "75%       576.000000\n",
       "max      1488.000000\n",
       "Name: GarageArea, dtype: float64"
      ]
     },
     "execution_count": 63,
     "metadata": {},
     "output_type": "execute_result"
    }
   ],
   "source": [
    "data_train[attribute_name].describe()"
   ]
  },
  {
   "cell_type": "markdown",
   "id": "19aa0d2f-f5e6-4e4c-b144-b127928b1e0f",
   "metadata": {},
   "source": [
    "<div style=\"background-color: lightblue; padding: 12px; border-radius: 5px;\">\n",
    "    \n",
    "<b>Infer\n",
    "    \n",
    "For imputing the missing value in this context, the Median can be a choice for imputation.\n",
    " \n",
    "</div>"
   ]
  },
  {
   "cell_type": "code",
   "execution_count": 64,
   "id": "ad1a0fca-704c-4248-b412-8abe7c7b575b",
   "metadata": {},
   "outputs": [
    {
     "name": "stdout",
     "output_type": "stream",
     "text": [
      "<class 'pandas.core.series.Series'>\n",
      "RangeIndex: 1459 entries, 0 to 1458\n",
      "Series name: GarageArea\n",
      "Non-Null Count  Dtype  \n",
      "--------------  -----  \n",
      "1459 non-null   float64\n",
      "dtypes: float64(1)\n",
      "memory usage: 11.5 KB\n"
     ]
    }
   ],
   "source": [
    "# Calculate the mode\n",
    "median_value = data_train['GarageArea'].median()\n",
    "\n",
    "# Impute the missing value with the mode\n",
    "data_train['GarageArea'].fillna(median_value, inplace=True)\n",
    "\n",
    "# Checking the attribute after imputing the misssing value\n",
    "data_train['GarageArea'].info()"
   ]
  },
  {
   "cell_type": "code",
   "execution_count": 65,
   "id": "580aae8b-e818-4237-8b45-46322d747511",
   "metadata": {},
   "outputs": [
    {
     "data": {
      "text/plain": [
       "['BsmtFullBath', 'TotalBsmtSF', 'BsmtFinSF2']"
      ]
     },
     "execution_count": 65,
     "metadata": {},
     "output_type": "execute_result"
    }
   ],
   "source": [
    "numeric_nan_columns.remove('GarageArea')\n",
    "numeric_nan_columns"
   ]
  },
  {
   "cell_type": "markdown",
   "id": "8438007e-d7c9-449a-8e8f-6fc477604274",
   "metadata": {
    "jp-MarkdownHeadingCollapsed": true
   },
   "source": [
    "## Dealing with 'BsmtFullBath' attribute"
   ]
  },
  {
   "cell_type": "code",
   "execution_count": 77,
   "id": "0d32f0c5-01d7-4f73-a648-122352f6f29e",
   "metadata": {},
   "outputs": [
    {
     "name": "stdout",
     "output_type": "stream",
     "text": [
      "BsmtFullBath:\n",
      "Basement full bathrooms\n"
     ]
    },
    {
     "data": {
      "text/html": [
       "<div>\n",
       "<style scoped>\n",
       "    .dataframe tbody tr th:only-of-type {\n",
       "        vertical-align: middle;\n",
       "    }\n",
       "\n",
       "    .dataframe tbody tr th {\n",
       "        vertical-align: top;\n",
       "    }\n",
       "\n",
       "    .dataframe thead th {\n",
       "        text-align: right;\n",
       "    }\n",
       "</style>\n",
       "<table border=\"1\" class=\"dataframe\">\n",
       "  <thead>\n",
       "    <tr style=\"text-align: right;\">\n",
       "      <th></th>\n",
       "      <th>BsmtFullBath</th>\n",
       "      <th>count</th>\n",
       "    </tr>\n",
       "  </thead>\n",
       "  <tbody>\n",
       "    <tr>\n",
       "      <th>0</th>\n",
       "      <td>0.0</td>\n",
       "      <td>851</td>\n",
       "    </tr>\n",
       "    <tr>\n",
       "      <th>1</th>\n",
       "      <td>1.0</td>\n",
       "      <td>584</td>\n",
       "    </tr>\n",
       "    <tr>\n",
       "      <th>2</th>\n",
       "      <td>2.0</td>\n",
       "      <td>23</td>\n",
       "    </tr>\n",
       "    <tr>\n",
       "      <th>3</th>\n",
       "      <td>3.0</td>\n",
       "      <td>1</td>\n",
       "    </tr>\n",
       "  </tbody>\n",
       "</table>\n",
       "</div>"
      ],
      "text/plain": [
       "   BsmtFullBath  count\n",
       "0           0.0    851\n",
       "1           1.0    584\n",
       "2           2.0     23\n",
       "3           3.0      1"
      ]
     },
     "execution_count": 77,
     "metadata": {},
     "output_type": "execute_result"
    }
   ],
   "source": [
    "# 'BsmtFullBath' attribute description\n",
    "attribute_name = 'BsmtFullBath'\n",
    "print(get_attribute_description('data_description.txt', attribute_name))\n",
    "\n",
    "data_train_BsmtFullBath=data_train[attribute_name].value_counts(dropna=False).reset_index()\n",
    "data_train_BsmtFullBath.sort_values(attribute_name)"
   ]
  },
  {
   "cell_type": "code",
   "execution_count": 72,
   "id": "76bd6c60-0105-4f7b-b881-fe251770e0cf",
   "metadata": {},
   "outputs": [
    {
     "data": {
      "image/png": "[encoded data removed]",
      "text/plain": [
       "<Figure size 400x400 with 1 Axes>"
      ]
     },
     "metadata": {},
     "output_type": "display_data"
    }
   ],
   "source": [
    "plt.figure(figsize=(4, 4))\n",
    "sns.barplot(x='BsmtFullBath', y='count',hue='count',data=data_train_BsmtFullBath.dropna(), palette='viridis')\n",
    "plt.xlabel(\"number of bathrooms\")\n",
    "plt.ylabel(\"Count\")\n",
    "plt.title(\"Basement full bathrooms\")\n",
    "plt.show()"
   ]
  },
  {
   "cell_type": "markdown",
   "id": "8210b035-c7ce-4a47-8e02-d7776fdc3814",
   "metadata": {},
   "source": [
    "<div style=\"background-color: lightblue; padding: 12px; border-radius: 5px;\">\n",
    "    \n",
    "<b>Infer\n",
    "    \n",
    "Given that the data is discrete and theere are only two missing values, The most frequent value '0.0' is the suitable replacement.\n",
    "</div>"
   ]
  },
  {
   "cell_type": "code",
   "execution_count": 74,
   "id": "fd382e66-bc06-408d-93ae-1d373462c16f",
   "metadata": {},
   "outputs": [
    {
     "data": {
      "text/plain": [
       "0.0"
      ]
     },
     "execution_count": 74,
     "metadata": {},
     "output_type": "execute_result"
    }
   ],
   "source": [
    "data_train['BsmtFullBath'].mode()[0]"
   ]
  },
  {
   "cell_type": "code",
   "execution_count": 75,
   "id": "f4f42461-4d20-4eda-b24d-d79073c9e63f",
   "metadata": {},
   "outputs": [
    {
     "name": "stdout",
     "output_type": "stream",
     "text": [
      "<class 'pandas.core.series.Series'>\n",
      "RangeIndex: 1459 entries, 0 to 1458\n",
      "Series name: BsmtFullBath\n",
      "Non-Null Count  Dtype  \n",
      "--------------  -----  \n",
      "1459 non-null   float64\n",
      "dtypes: float64(1)\n",
      "memory usage: 11.5 KB\n"
     ]
    }
   ],
   "source": [
    "# Calculate the mode\n",
    "mode_value = data_train['BsmtFullBath'].mode()[0]\n",
    "\n",
    "# Impute the missing value with the mode\n",
    "data_train['BsmtFullBath'].fillna(mode_value, inplace=True)\n",
    "\n",
    "# Checking the attribute after imputing the misssing value\n",
    "data_train['BsmtFullBath'].info()"
   ]
  },
  {
   "cell_type": "code",
   "execution_count": 76,
   "id": "c9f35224-1b05-4f81-bd49-84bd90f8bd5f",
   "metadata": {},
   "outputs": [
    {
     "data": {
      "text/plain": [
       "['TotalBsmtSF', 'BsmtFinSF2']"
      ]
     },
     "execution_count": 76,
     "metadata": {},
     "output_type": "execute_result"
    }
   ],
   "source": [
    "numeric_nan_columns.remove('BsmtFullBath')\n",
    "numeric_nan_columns"
   ]
  },
  {
   "cell_type": "markdown",
   "id": "16089fff-96b7-4ee9-9da1-5ce6a61b69dc",
   "metadata": {
    "jp-MarkdownHeadingCollapsed": true
   },
   "source": [
    "## Dealing with 'TotalBsmtSF' attribute"
   ]
  },
  {
   "cell_type": "code",
   "execution_count": 78,
   "id": "6f8862ab-864e-4585-b7af-b3b7001a108d",
   "metadata": {},
   "outputs": [
    {
     "name": "stdout",
     "output_type": "stream",
     "text": [
      "TotalBsmtSF:\n",
      "Total square feet of basement area\n"
     ]
    },
    {
     "data": {
      "text/html": [
       "<div>\n",
       "<style scoped>\n",
       "    .dataframe tbody tr th:only-of-type {\n",
       "        vertical-align: middle;\n",
       "    }\n",
       "\n",
       "    .dataframe tbody tr th {\n",
       "        vertical-align: top;\n",
       "    }\n",
       "\n",
       "    .dataframe thead th {\n",
       "        text-align: right;\n",
       "    }\n",
       "</style>\n",
       "<table border=\"1\" class=\"dataframe\">\n",
       "  <thead>\n",
       "    <tr style=\"text-align: right;\">\n",
       "      <th></th>\n",
       "      <th>TotalBsmtSF</th>\n",
       "      <th>count</th>\n",
       "    </tr>\n",
       "  </thead>\n",
       "  <tbody>\n",
       "    <tr>\n",
       "      <th>0</th>\n",
       "      <td>0.0</td>\n",
       "      <td>41</td>\n",
       "    </tr>\n",
       "    <tr>\n",
       "      <th>550</th>\n",
       "      <td>160.0</td>\n",
       "      <td>1</td>\n",
       "    </tr>\n",
       "    <tr>\n",
       "      <th>665</th>\n",
       "      <td>173.0</td>\n",
       "      <td>1</td>\n",
       "    </tr>\n",
       "    <tr>\n",
       "      <th>710</th>\n",
       "      <td>192.0</td>\n",
       "      <td>1</td>\n",
       "    </tr>\n",
       "    <tr>\n",
       "      <th>261</th>\n",
       "      <td>216.0</td>\n",
       "      <td>2</td>\n",
       "    </tr>\n",
       "    <tr>\n",
       "      <th>...</th>\n",
       "      <td>...</td>\n",
       "      <td>...</td>\n",
       "    </tr>\n",
       "    <tr>\n",
       "      <th>600</th>\n",
       "      <td>2630.0</td>\n",
       "      <td>1</td>\n",
       "    </tr>\n",
       "    <tr>\n",
       "      <th>495</th>\n",
       "      <td>2660.0</td>\n",
       "      <td>1</td>\n",
       "    </tr>\n",
       "    <tr>\n",
       "      <th>580</th>\n",
       "      <td>2846.0</td>\n",
       "      <td>1</td>\n",
       "    </tr>\n",
       "    <tr>\n",
       "      <th>475</th>\n",
       "      <td>5095.0</td>\n",
       "      <td>1</td>\n",
       "    </tr>\n",
       "    <tr>\n",
       "      <th>639</th>\n",
       "      <td>NaN</td>\n",
       "      <td>1</td>\n",
       "    </tr>\n",
       "  </tbody>\n",
       "</table>\n",
       "<p>737 rows × 2 columns</p>\n",
       "</div>"
      ],
      "text/plain": [
       "     TotalBsmtSF  count\n",
       "0            0.0     41\n",
       "550        160.0      1\n",
       "665        173.0      1\n",
       "710        192.0      1\n",
       "261        216.0      2\n",
       "..           ...    ...\n",
       "600       2630.0      1\n",
       "495       2660.0      1\n",
       "580       2846.0      1\n",
       "475       5095.0      1\n",
       "639          NaN      1\n",
       "\n",
       "[737 rows x 2 columns]"
      ]
     },
     "execution_count": 78,
     "metadata": {},
     "output_type": "execute_result"
    }
   ],
   "source": [
    "# 'TotalBsmtSF' attribute description\n",
    "attribute_name = 'TotalBsmtSF'\n",
    "print(get_attribute_description('data_description.txt', attribute_name))\n",
    "\n",
    "data_train_BsmtFullBath=data_train[attribute_name].value_counts(dropna=False).reset_index()\n",
    "data_train_BsmtFullBath.sort_values(attribute_name)"
   ]
  },
  {
   "cell_type": "code",
   "execution_count": 79,
   "id": "a6e4a8d9-f76a-4127-bd60-9f62f95939b6",
   "metadata": {},
   "outputs": [
    {
     "data": {
      "text/plain": [
       "Text(0.5, 0, 'square feet')"
      ]
     },
     "execution_count": 79,
     "metadata": {},
     "output_type": "execute_result"
    },
    {
     "data": {
      "image/png": "[encoded data removed]",
      "text/plain": [
       "<Figure size 600x400 with 1 Axes>"
      ]
     },
     "metadata": {},
     "output_type": "display_data"
    }
   ],
   "source": [
    "plt.figure(figsize=(6, 4))\n",
    "sns.boxplot(x=data_train[attribute_name].dropna())\n",
    "plt.xlabel('square feet')"
   ]
  },
  {
   "cell_type": "code",
   "execution_count": 83,
   "id": "548e8ab6-2c5b-4f02-9dc3-3ffd7099272a",
   "metadata": {},
   "outputs": [
    {
     "data": {
      "image/png": "[encoded data removed]",
      "text/plain": [
       "<Figure size 1000x600 with 1 Axes>"
      ]
     },
     "metadata": {},
     "output_type": "display_data"
    }
   ],
   "source": [
    "analyze_column(data_train, attribute_name, xlabel='square feet',title= 'Total square feet of basement area')"
   ]
  },
  {
   "cell_type": "markdown",
   "id": "c11dbdae-8df2-4eee-9e34-b5ec9506e657",
   "metadata": {},
   "source": [
    "<div style=\"background-color: lightblue; padding: 12px; border-radius: 5px;\">\n",
    "    \n",
    "<b>Infer\n",
    "    \n",
    "For imputing the missing value in this context, the Median can be a choice for imputation.\n",
    " \n",
    "</div>"
   ]
  },
  {
   "cell_type": "code",
   "execution_count": 87,
   "id": "fc603504-fdc4-4656-9a5c-19caa84ae574",
   "metadata": {},
   "outputs": [
    {
     "name": "stdout",
     "output_type": "stream",
     "text": [
      "<class 'pandas.core.series.Series'>\n",
      "RangeIndex: 1459 entries, 0 to 1458\n",
      "Series name: TotalBsmtSF\n",
      "Non-Null Count  Dtype  \n",
      "--------------  -----  \n",
      "1459 non-null   float64\n",
      "dtypes: float64(1)\n",
      "memory usage: 11.5 KB\n"
     ]
    }
   ],
   "source": [
    "median_value = data_train[attribute_name].median()\n",
    "\n",
    "# Impute the missing value with the mode\n",
    "data_train[attribute_name].fillna(median_value, inplace=True)\n",
    "\n",
    "# Checking the attribute after imputing the misssing value\n",
    "data_train[attribute_name].info()"
   ]
  },
  {
   "cell_type": "code",
   "execution_count": 88,
   "id": "d1419feb-f368-4d2b-a206-8881c3788fd8",
   "metadata": {},
   "outputs": [
    {
     "data": {
      "text/plain": [
       "['BsmtFinSF2']"
      ]
     },
     "execution_count": 88,
     "metadata": {},
     "output_type": "execute_result"
    }
   ],
   "source": [
    "numeric_nan_columns.remove(attribute_name)\n",
    "numeric_nan_columns"
   ]
  },
  {
   "cell_type": "markdown",
   "id": "b297e134-d5b3-497a-bb0d-795bba6a97ff",
   "metadata": {},
   "source": [
    "## Dealing with 'BsmtFinSF2' attribute"
   ]
  },
  {
   "cell_type": "code",
   "execution_count": 99,
   "id": "381e23b9-75e7-4348-b870-8c83309eef94",
   "metadata": {},
   "outputs": [
    {
     "name": "stdout",
     "output_type": "stream",
     "text": [
      "BsmtFinSF2:\n",
      "Type 2 finished square feet\n"
     ]
    },
    {
     "data": {
      "text/html": [
       "<div>\n",
       "<style scoped>\n",
       "    .dataframe tbody tr th:only-of-type {\n",
       "        vertical-align: middle;\n",
       "    }\n",
       "\n",
       "    .dataframe tbody tr th {\n",
       "        vertical-align: top;\n",
       "    }\n",
       "\n",
       "    .dataframe thead th {\n",
       "        text-align: right;\n",
       "    }\n",
       "</style>\n",
       "<table border=\"1\" class=\"dataframe\">\n",
       "  <thead>\n",
       "    <tr style=\"text-align: right;\">\n",
       "      <th></th>\n",
       "      <th>BsmtFinSF2</th>\n",
       "      <th>count</th>\n",
       "    </tr>\n",
       "  </thead>\n",
       "  <tbody>\n",
       "    <tr>\n",
       "      <th>0</th>\n",
       "      <td>0.0</td>\n",
       "      <td>1279</td>\n",
       "    </tr>\n",
       "    <tr>\n",
       "      <th>32</th>\n",
       "      <td>6.0</td>\n",
       "      <td>1</td>\n",
       "    </tr>\n",
       "    <tr>\n",
       "      <th>118</th>\n",
       "      <td>12.0</td>\n",
       "      <td>1</td>\n",
       "    </tr>\n",
       "    <tr>\n",
       "      <th>47</th>\n",
       "      <td>38.0</td>\n",
       "      <td>1</td>\n",
       "    </tr>\n",
       "    <tr>\n",
       "      <th>88</th>\n",
       "      <td>40.0</td>\n",
       "      <td>1</td>\n",
       "    </tr>\n",
       "    <tr>\n",
       "      <th>...</th>\n",
       "      <td>...</td>\n",
       "      <td>...</td>\n",
       "    </tr>\n",
       "    <tr>\n",
       "      <th>116</th>\n",
       "      <td>1073.0</td>\n",
       "      <td>1</td>\n",
       "    </tr>\n",
       "    <tr>\n",
       "      <th>65</th>\n",
       "      <td>1083.0</td>\n",
       "      <td>1</td>\n",
       "    </tr>\n",
       "    <tr>\n",
       "      <th>64</th>\n",
       "      <td>1164.0</td>\n",
       "      <td>1</td>\n",
       "    </tr>\n",
       "    <tr>\n",
       "      <th>69</th>\n",
       "      <td>1393.0</td>\n",
       "      <td>1</td>\n",
       "    </tr>\n",
       "    <tr>\n",
       "      <th>92</th>\n",
       "      <td>1526.0</td>\n",
       "      <td>1</td>\n",
       "    </tr>\n",
       "  </tbody>\n",
       "</table>\n",
       "<p>161 rows × 2 columns</p>\n",
       "</div>"
      ],
      "text/plain": [
       "     BsmtFinSF2  count\n",
       "0           0.0   1279\n",
       "32          6.0      1\n",
       "118        12.0      1\n",
       "47         38.0      1\n",
       "88         40.0      1\n",
       "..          ...    ...\n",
       "116      1073.0      1\n",
       "65       1083.0      1\n",
       "64       1164.0      1\n",
       "69       1393.0      1\n",
       "92       1526.0      1\n",
       "\n",
       "[161 rows x 2 columns]"
      ]
     },
     "execution_count": 99,
     "metadata": {},
     "output_type": "execute_result"
    }
   ],
   "source": [
    "# 'TotalBsmtSF' attribute description\n",
    "attribute_name = 'BsmtFinSF2'\n",
    "print(get_attribute_description('data_description.txt', attribute_name))\n",
    "\n",
    "data_train_BsmtFinSF2=data_train[attribute_name].value_counts(dropna=False).reset_index()\n",
    "data_train_BsmtFinSF2.sort_values(attribute_name)"
   ]
  },
  {
   "cell_type": "code",
   "execution_count": 90,
   "id": "85ad44c8-9c22-490b-9d22-19478fa18149",
   "metadata": {},
   "outputs": [
    {
     "data": {
      "text/plain": [
       "Text(0.5, 0, 'square feet')"
      ]
     },
     "execution_count": 90,
     "metadata": {},
     "output_type": "execute_result"
    },
    {
     "data": {
      "image/png": "[encoded data removed]",
      "text/plain": [
       "<Figure size 600x400 with 1 Axes>"
      ]
     },
     "metadata": {},
     "output_type": "display_data"
    }
   ],
   "source": [
    "plt.figure(figsize=(6, 4))\n",
    "sns.boxplot(x=data_train[attribute_name].dropna())\n",
    "plt.xlabel('square feet')"
   ]
  },
  {
   "cell_type": "code",
   "execution_count": 91,
   "id": "289bf0b0-7eeb-4f77-97aa-81d8012637f3",
   "metadata": {},
   "outputs": [
    {
     "data": {
      "image/png": "[encoded data removed]",
      "text/plain": [
       "<Figure size 1000x600 with 1 Axes>"
      ]
     },
     "metadata": {},
     "output_type": "display_data"
    }
   ],
   "source": [
    "analyze_column(data_train, attribute_name, xlabel='square feet',title= 'Type 2 finished square feet')"
   ]
  },
  {
   "cell_type": "markdown",
   "id": "956db9ce-81ba-4287-9086-b6a01c44bf09",
   "metadata": {},
   "source": [
    "<div style=\"background-color: lightblue; padding: 12px; border-radius: 5px;\">\n",
    "    \n",
    "<b>Infer\n",
    "    \n",
    "Given the high frequency of the value '0.0' and there is only one missing value, the value of '0.0' is the proper choice for replacement.\n",
    " \n",
    "</div>"
   ]
  },
  {
   "cell_type": "code",
   "execution_count": 92,
   "id": "d48ddf9f-7e4f-41e2-b905-f110237355d2",
   "metadata": {},
   "outputs": [
    {
     "name": "stdout",
     "output_type": "stream",
     "text": [
      "<class 'pandas.core.series.Series'>\n",
      "RangeIndex: 1459 entries, 0 to 1458\n",
      "Series name: BsmtFinSF2\n",
      "Non-Null Count  Dtype  \n",
      "--------------  -----  \n",
      "1459 non-null   float64\n",
      "dtypes: float64(1)\n",
      "memory usage: 11.5 KB\n"
     ]
    }
   ],
   "source": [
    "mode_value = data_train[attribute_name].mode()[0]\n",
    "\n",
    "# Impute the missing value with the mode\n",
    "data_train[attribute_name].fillna(mode_value, inplace=True)\n",
    "\n",
    "# Checking the attribute after imputing the misssing value\n",
    "data_train[attribute_name].info()"
   ]
  },
  {
   "cell_type": "code",
   "execution_count": 93,
   "id": "56d717a8-e69d-4112-86d6-a5bcf2d2ec7f",
   "metadata": {},
   "outputs": [
    {
     "data": {
      "text/plain": [
       "[]"
      ]
     },
     "execution_count": 93,
     "metadata": {},
     "output_type": "execute_result"
    }
   ],
   "source": [
    "numeric_nan_columns.remove(attribute_name)\n",
    "numeric_nan_columns"
   ]
  },
  {
   "cell_type": "markdown",
   "id": "7a9c8953-520c-42c3-bbef-50d68f0bcf89",
   "metadata": {},
   "source": [
    "<div style=\"background-color: lightgreen; padding: 12px; border-radius: 5px;\">\n",
    "\n",
    "<b>Next Step<b>\n",
    "\n",
    "All the missing values of the attributes having the numeric values are replaced.\n",
    "\n",
    "next step is to Dealing with missing values of the attributes having the non-numeric values.\n",
    "</div>"
   ]
  },
  {
   "cell_type": "code",
   "execution_count": 95,
   "id": "0962cfc7-b533-4d1c-ad5c-8a4bc2ef0179",
   "metadata": {},
   "outputs": [
    {
     "name": "stdout",
     "output_type": "stream",
     "text": [
      "['Fence', 'KitchenQual', 'SaleType', 'BsmtFinType1', 'MiscFeature', 'Exterior1st', 'GarageFinish', 'BsmtExposure', 'GarageQual', 'Functional', 'FireplaceQu', 'MasVnrType', 'GarageCond', 'PoolQC', 'BsmtCond', 'Exterior2nd', 'Alley', 'BsmtFinType2', 'MSZoning', 'BsmtQual', 'Utilities', 'GarageType'] \n",
      "\n"
     ]
    }
   ],
   "source": [
    "non_numeric_nan_columns = list(set(nan_columns) & set(object_columns))\n",
    "print(non_numeric_nan_columns,'\\n')"
   ]
  },
  {
   "cell_type": "code",
   "execution_count": 102,
   "id": "02d44862-66b9-40d4-8d31-a001df6896c7",
   "metadata": {},
   "outputs": [
    {
     "name": "stdout",
     "output_type": "stream",
     "text": [
      "Fence:\n",
      "Fence quality\n",
      "       GdPrv\tGood Privacy\n",
      "       MnPrv\tMinimum Privacy\n",
      "       GdWo\tGood Wood\n",
      "       MnWw\tMinimum Wood/Wire\n",
      "       NA\tNo Fence\n"
     ]
    },
    {
     "data": {
      "text/html": [
       "<div>\n",
       "<style scoped>\n",
       "    .dataframe tbody tr th:only-of-type {\n",
       "        vertical-align: middle;\n",
       "    }\n",
       "\n",
       "    .dataframe tbody tr th {\n",
       "        vertical-align: top;\n",
       "    }\n",
       "\n",
       "    .dataframe thead th {\n",
       "        text-align: right;\n",
       "    }\n",
       "</style>\n",
       "<table border=\"1\" class=\"dataframe\">\n",
       "  <thead>\n",
       "    <tr style=\"text-align: right;\">\n",
       "      <th></th>\n",
       "      <th>Fence</th>\n",
       "      <th>count</th>\n",
       "    </tr>\n",
       "  </thead>\n",
       "  <tbody>\n",
       "    <tr>\n",
       "      <th>0</th>\n",
       "      <td>NaN</td>\n",
       "      <td>1169</td>\n",
       "    </tr>\n",
       "    <tr>\n",
       "      <th>1</th>\n",
       "      <td>MnPrv</td>\n",
       "      <td>172</td>\n",
       "    </tr>\n",
       "    <tr>\n",
       "      <th>2</th>\n",
       "      <td>GdPrv</td>\n",
       "      <td>59</td>\n",
       "    </tr>\n",
       "    <tr>\n",
       "      <th>3</th>\n",
       "      <td>GdWo</td>\n",
       "      <td>58</td>\n",
       "    </tr>\n",
       "    <tr>\n",
       "      <th>4</th>\n",
       "      <td>MnWw</td>\n",
       "      <td>1</td>\n",
       "    </tr>\n",
       "  </tbody>\n",
       "</table>\n",
       "</div>"
      ],
      "text/plain": [
       "   Fence  count\n",
       "0    NaN   1169\n",
       "1  MnPrv    172\n",
       "2  GdPrv     59\n",
       "3   GdWo     58\n",
       "4   MnWw      1"
      ]
     },
     "execution_count": 102,
     "metadata": {},
     "output_type": "execute_result"
    }
   ],
   "source": [
    "#attribute description\n",
    "attribute_name = 'Fence'\n",
    "print(get_attribute_description('data_description.txt', attribute_name))\n",
    "\n",
    "data_train_attribute=data_train[attribute_name].value_counts(dropna=False).reset_index()\n",
    "data_train_attribute"
   ]
  },
  {
   "cell_type": "code",
   "execution_count": 101,
   "id": "ce73cf57-d114-4916-b143-1ca58d029617",
   "metadata": {},
   "outputs": [
    {
     "name": "stdout",
     "output_type": "stream",
     "text": [
      "KitchenQual:\n",
      "Kitchen quality\n",
      "       Ex\tExcellent\n",
      "       Gd\tGood\n",
      "       TA\tTypical/Average\n",
      "       Fa\tFair\n",
      "       Po\tPoor\n"
     ]
    },
    {
     "data": {
      "text/html": [
       "<div>\n",
       "<style scoped>\n",
       "    .dataframe tbody tr th:only-of-type {\n",
       "        vertical-align: middle;\n",
       "    }\n",
       "\n",
       "    .dataframe tbody tr th {\n",
       "        vertical-align: top;\n",
       "    }\n",
       "\n",
       "    .dataframe thead th {\n",
       "        text-align: right;\n",
       "    }\n",
       "</style>\n",
       "<table border=\"1\" class=\"dataframe\">\n",
       "  <thead>\n",
       "    <tr style=\"text-align: right;\">\n",
       "      <th></th>\n",
       "      <th>KitchenQual</th>\n",
       "      <th>count</th>\n",
       "    </tr>\n",
       "  </thead>\n",
       "  <tbody>\n",
       "    <tr>\n",
       "      <th>0</th>\n",
       "      <td>TA</td>\n",
       "      <td>757</td>\n",
       "    </tr>\n",
       "    <tr>\n",
       "      <th>1</th>\n",
       "      <td>Gd</td>\n",
       "      <td>565</td>\n",
       "    </tr>\n",
       "    <tr>\n",
       "      <th>2</th>\n",
       "      <td>Ex</td>\n",
       "      <td>105</td>\n",
       "    </tr>\n",
       "    <tr>\n",
       "      <th>3</th>\n",
       "      <td>Fa</td>\n",
       "      <td>31</td>\n",
       "    </tr>\n",
       "    <tr>\n",
       "      <th>4</th>\n",
       "      <td>NaN</td>\n",
       "      <td>1</td>\n",
       "    </tr>\n",
       "  </tbody>\n",
       "</table>\n",
       "</div>"
      ],
      "text/plain": [
       "  KitchenQual  count\n",
       "0          TA    757\n",
       "1          Gd    565\n",
       "2          Ex    105\n",
       "3          Fa     31\n",
       "4         NaN      1"
      ]
     },
     "execution_count": 101,
     "metadata": {},
     "output_type": "execute_result"
    }
   ],
   "source": [
    "#attribute description\n",
    "attribute_name = 'KitchenQual'\n",
    "print(get_attribute_description('data_description.txt', attribute_name))\n",
    "\n",
    "data_train_attribute=data_train[attribute_name].value_counts(dropna=False).reset_index()\n",
    "data_train_attribute"
   ]
  },
  {
   "cell_type": "code",
   "execution_count": 103,
   "id": "55e63820-a47e-444d-bf7c-8642679412d5",
   "metadata": {},
   "outputs": [
    {
     "name": "stdout",
     "output_type": "stream",
     "text": [
      "SaleType:\n",
      "Type of sale\n",
      "       WD \tWarranty Deed - Conventional\n",
      "       CWD\tWarranty Deed - Cash\n",
      "       VWD\tWarranty Deed - VA Loan\n",
      "       New\tHome just constructed and sold\n",
      "       COD\tCourt Officer Deed/Estate\n",
      "       Con\tContract 15% Down payment regular terms\n",
      "       ConLw\tContract Low Down payment and low interest\n",
      "       ConLI\tContract Low Interest\n",
      "       ConLD\tContract Low Down\n",
      "       Oth\tOther\n"
     ]
    },
    {
     "data": {
      "text/html": [
       "<div>\n",
       "<style scoped>\n",
       "    .dataframe tbody tr th:only-of-type {\n",
       "        vertical-align: middle;\n",
       "    }\n",
       "\n",
       "    .dataframe tbody tr th {\n",
       "        vertical-align: top;\n",
       "    }\n",
       "\n",
       "    .dataframe thead th {\n",
       "        text-align: right;\n",
       "    }\n",
       "</style>\n",
       "<table border=\"1\" class=\"dataframe\">\n",
       "  <thead>\n",
       "    <tr style=\"text-align: right;\">\n",
       "      <th></th>\n",
       "      <th>SaleType</th>\n",
       "      <th>count</th>\n",
       "    </tr>\n",
       "  </thead>\n",
       "  <tbody>\n",
       "    <tr>\n",
       "      <th>0</th>\n",
       "      <td>WD</td>\n",
       "      <td>1258</td>\n",
       "    </tr>\n",
       "    <tr>\n",
       "      <th>1</th>\n",
       "      <td>New</td>\n",
       "      <td>117</td>\n",
       "    </tr>\n",
       "    <tr>\n",
       "      <th>2</th>\n",
       "      <td>COD</td>\n",
       "      <td>44</td>\n",
       "    </tr>\n",
       "    <tr>\n",
       "      <th>3</th>\n",
       "      <td>ConLD</td>\n",
       "      <td>17</td>\n",
       "    </tr>\n",
       "    <tr>\n",
       "      <th>4</th>\n",
       "      <td>CWD</td>\n",
       "      <td>8</td>\n",
       "    </tr>\n",
       "    <tr>\n",
       "      <th>5</th>\n",
       "      <td>Oth</td>\n",
       "      <td>4</td>\n",
       "    </tr>\n",
       "    <tr>\n",
       "      <th>6</th>\n",
       "      <td>ConLI</td>\n",
       "      <td>4</td>\n",
       "    </tr>\n",
       "    <tr>\n",
       "      <th>7</th>\n",
       "      <td>Con</td>\n",
       "      <td>3</td>\n",
       "    </tr>\n",
       "    <tr>\n",
       "      <th>8</th>\n",
       "      <td>ConLw</td>\n",
       "      <td>3</td>\n",
       "    </tr>\n",
       "    <tr>\n",
       "      <th>9</th>\n",
       "      <td>NaN</td>\n",
       "      <td>1</td>\n",
       "    </tr>\n",
       "  </tbody>\n",
       "</table>\n",
       "</div>"
      ],
      "text/plain": [
       "  SaleType  count\n",
       "0       WD   1258\n",
       "1      New    117\n",
       "2      COD     44\n",
       "3    ConLD     17\n",
       "4      CWD      8\n",
       "5      Oth      4\n",
       "6    ConLI      4\n",
       "7      Con      3\n",
       "8    ConLw      3\n",
       "9      NaN      1"
      ]
     },
     "execution_count": 103,
     "metadata": {},
     "output_type": "execute_result"
    }
   ],
   "source": [
    "#attribute description\n",
    "attribute_name = 'SaleType'\n",
    "print(get_attribute_description('data_description.txt', attribute_name))\n",
    "\n",
    "data_train_attribute=data_train[attribute_name].value_counts(dropna=False).reset_index()\n",
    "data_train_attribute"
   ]
  },
  {
   "cell_type": "code",
   "execution_count": null,
   "id": "cc965426-3e99-44db-8645-d7cd5bcc2d4b",
   "metadata": {},
   "outputs": [],
   "source": []
  },
  {
   "cell_type": "code",
   "execution_count": null,
   "id": "79f921af-1f73-4549-af28-93a9ac4654ba",
   "metadata": {},
   "outputs": [],
   "source": []
  },
  {
   "cell_type": "code",
   "execution_count": null,
   "id": "34b4b35b-6101-449a-a367-8c6a9595e6ef",
   "metadata": {},
   "outputs": [],
   "source": []
  },
  {
   "cell_type": "code",
   "execution_count": null,
   "id": "c11dede9-dc7a-460f-afec-23ddc4e63454",
   "metadata": {},
   "outputs": [],
   "source": []
  },
  {
   "cell_type": "code",
   "execution_count": null,
   "id": "d7d84f59-a794-4ccb-b39f-2c6e8d723401",
   "metadata": {},
   "outputs": [],
   "source": []
  },
  {
   "cell_type": "code",
   "execution_count": null,
   "id": "ea5ecf4f-187b-40fb-84a8-f2c568d2e86f",
   "metadata": {},
   "outputs": [],
   "source": []
  },
  {
   "cell_type": "code",
   "execution_count": null,
   "id": "840a9d76-dfab-419d-a627-1dabe8124eb8",
   "metadata": {},
   "outputs": [],
   "source": []
  },
  {
   "cell_type": "code",
   "execution_count": null,
   "id": "82991ce6-be24-4f2c-8d1d-e8d4923bcacd",
   "metadata": {},
   "outputs": [],
   "source": []
  },
  {
   "cell_type": "code",
   "execution_count": null,
   "id": "df21fc79-86e8-4aad-aaca-66a91529eb8d",
   "metadata": {},
   "outputs": [],
   "source": []
  },
  {
   "cell_type": "code",
   "execution_count": null,
   "id": "2db13759-ef03-4cc7-8aa1-5cc3103cdac5",
   "metadata": {},
   "outputs": [],
   "source": []
  },
  {
   "cell_type": "code",
   "execution_count": null,
   "id": "927f06fa-a5c4-4949-9e02-ce27cb9e83eb",
   "metadata": {},
   "outputs": [],
   "source": []
  },
  {
   "cell_type": "code",
   "execution_count": null,
   "id": "4eda0c70-d898-4d56-beb1-232b7c15815e",
   "metadata": {},
   "outputs": [],
   "source": []
  },
  {
   "cell_type": "code",
   "execution_count": null,
   "id": "65a27ee6-fdc1-4124-8945-7aec9d5ba99e",
   "metadata": {},
   "outputs": [],
   "source": []
  },
  {
   "cell_type": "markdown",
   "id": "2d63b0cb-8dd1-4519-9ba9-a3d221a5ff78",
   "metadata": {},
   "source": [
    "# Exploratory Data Analysis (EDA)\n",
    "Objectives:\n",
    "* Exploratory Data Analysis with SQL\n",
    "* Exploratory Data Analysis with Data Visualization\n",
    "* Preparing Data Feature Engineering"
   ]
  },
  {
   "cell_type": "markdown",
   "id": "28b08aec-1da9-4d92-88f3-2ad8736fc3a6",
   "metadata": {},
   "source": [
    "g"
   ]
  },
  {
   "cell_type": "markdown",
   "id": "256bfbd3-2887-4a3e-b3ec-34263bcd66f6",
   "metadata": {},
   "source": [
    "# Interactive Visual Analytics\n",
    "Objectives:\n",
    "* Intreactive visual analytics using Folium, Plotly Dash, etc."
   ]
  },
  {
   "cell_type": "markdown",
   "id": "bbbb5219-36e0-4b23-a8df-4eec2f8fd267",
   "metadata": {},
   "source": []
  },
  {
   "cell_type": "markdown",
   "id": "924739c4-037d-47b3-9379-f142f03e3322",
   "metadata": {},
   "source": [
    "# Predictive Analysis"
   ]
  },
  {
   "cell_type": "markdown",
   "id": "fa7d2a7b-e40f-473b-bbd0-d0c536beca0d",
   "metadata": {},
   "source": [
    "Objectives:\n",
    "* Standardize the data\n",
    "* Split into training data and test data\n",
    "* Finding best Hyperparameter for different models such as SVM, Classification Trees, Logistic Regression and etc.\n",
    "* Find the method performs best using test data"
   ]
  },
  {
   "cell_type": "markdown",
   "id": "54778d00-3023-48c5-88e4-4310a06c8be7",
   "metadata": {},
   "source": [
    "# Results and Discusion"
   ]
  },
  {
   "cell_type": "markdown",
   "id": "6dbcacc9-7e39-44c1-be32-703d97e2d779",
   "metadata": {},
   "source": [
    "# Conclusion"
   ]
  },
  {
   "cell_type": "code",
   "execution_count": null,
   "id": "30a0a806-ee1c-4cfd-a1d0-9e84ae191a1e",
   "metadata": {},
   "outputs": [],
   "source": []
  }
 ],
 "metadata": {
  "kernelspec": {
   "display_name": "Python 3 (ipykernel)",
   "language": "python",
   "name": "python3"
  },
  "language_info": {
   "codemirror_mode": {
    "name": "ipython",
    "version": 3
   },
   "file_extension": ".py",
   "mimetype": "text/x-python",
   "name": "python",
   "nbconvert_exporter": "python",
   "pygments_lexer": "ipython3",
   "version": "3.11.5"
  }
 },
 "nbformat": 4,
 "nbformat_minor": 5
}
